{
 "cells": [
  {
   "cell_type": "markdown",
   "metadata": {},
   "source": [
    "# SYRIATEL TELECOM ANALYSIS\n",
    "\n",
    "![telecommunication tower](images/raisting-satellite1.jpg)\n",
    "\n",
    "Image by <a href=\"https://pixabay.com/users/mmisof-1574106/?utm_source=link-attribution&amp;utm_medium=referral&amp;utm_campaign=image&amp;utm_content=1010862\">Michael Misof</a> from <a href=\"https://pixabay.com//?utm_source=link-attribution&amp;utm_medium=referral&amp;utm_campaign=image&amp;utm_content=1010862\">Pixabay</a>"
   ]
  },
  {
   "cell_type": "markdown",
   "metadata": {},
   "source": [
    "## 1. Business Understanding\n",
    "\n",
    "After just a month into the **Safaricom internship**, an email has just arrived into my inbox with an urgent tag on the subject. The **Customer Acquisition and Management team**, **The sales team**, and **The Product Development team** are requesting the data science department to help with insight into customer behaviour. \n",
    "\n",
    "The Acquisition team wants to be able to detect customers likely to unsubscribe from the service, the Product development team wants to know for the clients who leave, what kinds of products were they dissatisfied with that might have caused them to leave, and what new products might they produce for the existing customers, the sales team on the other hand wants to know the amount of revenue they might lose, if the customers were to leave.\n",
    "\n",
    "After a discussion with my supervisor, we have reached the conclusion that with the available dataset, for this particular project we will be checking for churn, that is, detecting if a client might terminate subscription, we'll also check the dataset to suggest some new products for the Product development team. We will however not check for the product/reason that might have led to the churn, nor the amount of revenue lost as a result of the churn, as the dataset available won't allow for these. \n",
    "\n",
    "The project will take a week to complete, and the analysis will be considered a success if we'll be able to predict the correct outcome with atleast 85% accuracy.\n",
    "\n"
   ]
  },
  {
   "cell_type": "markdown",
   "metadata": {},
   "source": [
    "## 2. Data Understanding\n",
    "The dataset is contained in a CSV(comma separated Values) file, and is stored in the *data/* folder in the current folder. <br>\n",
    "The target we'll be using is the churn column, that indicates to us if the client churned or not. <br>\n",
    "Our dataset contains 3333 datapoints/rows and 21 columns giving details about each datapoint. Which is not a lot, but enough for this particular analysis. \n",
    "\n",
    "The dataset available contains information about a particular customer, and it can be downloaded from Kaggle at [SyriaTel Dataset](https://www.kaggle.com/datasets/becksddf/churn-in-telecoms-dataset).<br> After some EDA on the data, we might drop some columns, or add new ones depending on the needs of the project, and probably normalize the dataset before fitting it in our model.\n",
    "\n",
    "The features include;\n",
    "* **state**  - State where the customer resides.\n",
    "* **account length** - period the customer has been subscribed to the service\n",
    "* **area code** - area code of the customer\n",
    "* **phone number** - clients phone number\n",
    "* **international plan** - indicates if the customer has an international plan or not\n",
    "* **voice mail plan** - indicates if the client has a voice mail plan or not\n",
    "* **number vmail messages** - number of voice mail messages\n",
    "* **total day minutes, calls, charge** - total minutes, calls and charge of the customer in the day\n",
    "* **total eve minutes, calls, charge** - total minutes, calls and charge of the customer in the evening\n",
    "* **total night minutes, calls, charge** - total minutes, calls and charge of the customer in the night\n",
    "* **total intl minutes, calls, charge** - total international minutes, calls and charge of the customer.\n",
    "* **customer service calls** - number of calls made to the customer service\n",
    "* **churn** - our target\n"
   ]
  },
  {
   "cell_type": "markdown",
   "metadata": {},
   "source": [
    "## 3. Data Preparation"
   ]
  },
  {
   "cell_type": "markdown",
   "metadata": {},
   "source": [
    "### 3.1 Module imports and Data Loading "
   ]
  },
  {
   "cell_type": "code",
   "execution_count": 1,
   "metadata": {},
   "outputs": [],
   "source": [
    "# imports\n",
    "import pandas as pd\n",
    "import numpy as np\n",
    "import seaborn as sns\n",
    "import matplotlib.pyplot as plt\n",
    "\n",
    "%matplotlib inline\n",
    "\n",
    "# scipy imports\n",
    "import scipy.stats as stats\n",
    "\n",
    "# statsmodel imports\n",
    "from statsmodels.stats.outliers_influence import variance_inflation_factor\n",
    "\n",
    "# scikit imports\n",
    "from sklearn.model_selection import train_test_split, cross_val_score\n",
    "from sklearn.preprocessing import StandardScaler\n",
    "from sklearn.linear_model import LogisticRegression\n",
    "from sklearn.metrics import roc_curve, auc\n",
    "from sklearn.metrics import confusion_matrix, plot_confusion_matrix, classification_report\n",
    "from sklearn.neighbors import KNeighborsClassifier\n",
    "from sklearn.metrics import precision_score, recall_score, accuracy_score, f1_score\n",
    "\n",
    "# imports from imblearn\n",
    "from imblearn.over_sampling import SMOTE\n"
   ]
  },
  {
   "cell_type": "code",
   "execution_count": 2,
   "metadata": {},
   "outputs": [
    {
     "data": {
      "text/html": [
       "<div>\n",
       "<style scoped>\n",
       "    .dataframe tbody tr th:only-of-type {\n",
       "        vertical-align: middle;\n",
       "    }\n",
       "\n",
       "    .dataframe tbody tr th {\n",
       "        vertical-align: top;\n",
       "    }\n",
       "\n",
       "    .dataframe thead th {\n",
       "        text-align: right;\n",
       "    }\n",
       "</style>\n",
       "<table border=\"1\" class=\"dataframe\">\n",
       "  <thead>\n",
       "    <tr style=\"text-align: right;\">\n",
       "      <th></th>\n",
       "      <th>state</th>\n",
       "      <th>account length</th>\n",
       "      <th>area code</th>\n",
       "      <th>phone number</th>\n",
       "      <th>international plan</th>\n",
       "      <th>voice mail plan</th>\n",
       "      <th>number vmail messages</th>\n",
       "      <th>total day minutes</th>\n",
       "      <th>total day calls</th>\n",
       "      <th>total day charge</th>\n",
       "      <th>total eve minutes</th>\n",
       "      <th>total eve calls</th>\n",
       "      <th>total eve charge</th>\n",
       "      <th>total night minutes</th>\n",
       "      <th>total night calls</th>\n",
       "      <th>total night charge</th>\n",
       "      <th>total intl minutes</th>\n",
       "      <th>total intl calls</th>\n",
       "      <th>total intl charge</th>\n",
       "      <th>customer service calls</th>\n",
       "      <th>churn</th>\n",
       "    </tr>\n",
       "  </thead>\n",
       "  <tbody>\n",
       "    <tr>\n",
       "      <th>0</th>\n",
       "      <td>KS</td>\n",
       "      <td>128</td>\n",
       "      <td>415</td>\n",
       "      <td>382-4657</td>\n",
       "      <td>no</td>\n",
       "      <td>yes</td>\n",
       "      <td>25</td>\n",
       "      <td>265.1</td>\n",
       "      <td>110</td>\n",
       "      <td>45.07</td>\n",
       "      <td>197.4</td>\n",
       "      <td>99</td>\n",
       "      <td>16.78</td>\n",
       "      <td>244.7</td>\n",
       "      <td>91</td>\n",
       "      <td>11.01</td>\n",
       "      <td>10.0</td>\n",
       "      <td>3</td>\n",
       "      <td>2.70</td>\n",
       "      <td>1</td>\n",
       "      <td>False</td>\n",
       "    </tr>\n",
       "    <tr>\n",
       "      <th>1</th>\n",
       "      <td>OH</td>\n",
       "      <td>107</td>\n",
       "      <td>415</td>\n",
       "      <td>371-7191</td>\n",
       "      <td>no</td>\n",
       "      <td>yes</td>\n",
       "      <td>26</td>\n",
       "      <td>161.6</td>\n",
       "      <td>123</td>\n",
       "      <td>27.47</td>\n",
       "      <td>195.5</td>\n",
       "      <td>103</td>\n",
       "      <td>16.62</td>\n",
       "      <td>254.4</td>\n",
       "      <td>103</td>\n",
       "      <td>11.45</td>\n",
       "      <td>13.7</td>\n",
       "      <td>3</td>\n",
       "      <td>3.70</td>\n",
       "      <td>1</td>\n",
       "      <td>False</td>\n",
       "    </tr>\n",
       "    <tr>\n",
       "      <th>2</th>\n",
       "      <td>NJ</td>\n",
       "      <td>137</td>\n",
       "      <td>415</td>\n",
       "      <td>358-1921</td>\n",
       "      <td>no</td>\n",
       "      <td>no</td>\n",
       "      <td>0</td>\n",
       "      <td>243.4</td>\n",
       "      <td>114</td>\n",
       "      <td>41.38</td>\n",
       "      <td>121.2</td>\n",
       "      <td>110</td>\n",
       "      <td>10.30</td>\n",
       "      <td>162.6</td>\n",
       "      <td>104</td>\n",
       "      <td>7.32</td>\n",
       "      <td>12.2</td>\n",
       "      <td>5</td>\n",
       "      <td>3.29</td>\n",
       "      <td>0</td>\n",
       "      <td>False</td>\n",
       "    </tr>\n",
       "    <tr>\n",
       "      <th>3</th>\n",
       "      <td>OH</td>\n",
       "      <td>84</td>\n",
       "      <td>408</td>\n",
       "      <td>375-9999</td>\n",
       "      <td>yes</td>\n",
       "      <td>no</td>\n",
       "      <td>0</td>\n",
       "      <td>299.4</td>\n",
       "      <td>71</td>\n",
       "      <td>50.90</td>\n",
       "      <td>61.9</td>\n",
       "      <td>88</td>\n",
       "      <td>5.26</td>\n",
       "      <td>196.9</td>\n",
       "      <td>89</td>\n",
       "      <td>8.86</td>\n",
       "      <td>6.6</td>\n",
       "      <td>7</td>\n",
       "      <td>1.78</td>\n",
       "      <td>2</td>\n",
       "      <td>False</td>\n",
       "    </tr>\n",
       "    <tr>\n",
       "      <th>4</th>\n",
       "      <td>OK</td>\n",
       "      <td>75</td>\n",
       "      <td>415</td>\n",
       "      <td>330-6626</td>\n",
       "      <td>yes</td>\n",
       "      <td>no</td>\n",
       "      <td>0</td>\n",
       "      <td>166.7</td>\n",
       "      <td>113</td>\n",
       "      <td>28.34</td>\n",
       "      <td>148.3</td>\n",
       "      <td>122</td>\n",
       "      <td>12.61</td>\n",
       "      <td>186.9</td>\n",
       "      <td>121</td>\n",
       "      <td>8.41</td>\n",
       "      <td>10.1</td>\n",
       "      <td>3</td>\n",
       "      <td>2.73</td>\n",
       "      <td>3</td>\n",
       "      <td>False</td>\n",
       "    </tr>\n",
       "  </tbody>\n",
       "</table>\n",
       "</div>"
      ],
      "text/plain": [
       "  state  account length  area code phone number international plan  \\\n",
       "0    KS             128        415     382-4657                 no   \n",
       "1    OH             107        415     371-7191                 no   \n",
       "2    NJ             137        415     358-1921                 no   \n",
       "3    OH              84        408     375-9999                yes   \n",
       "4    OK              75        415     330-6626                yes   \n",
       "\n",
       "  voice mail plan  number vmail messages  total day minutes  total day calls  \\\n",
       "0             yes                     25              265.1              110   \n",
       "1             yes                     26              161.6              123   \n",
       "2              no                      0              243.4              114   \n",
       "3              no                      0              299.4               71   \n",
       "4              no                      0              166.7              113   \n",
       "\n",
       "   total day charge  total eve minutes  total eve calls  total eve charge  \\\n",
       "0             45.07              197.4               99             16.78   \n",
       "1             27.47              195.5              103             16.62   \n",
       "2             41.38              121.2              110             10.30   \n",
       "3             50.90               61.9               88              5.26   \n",
       "4             28.34              148.3              122             12.61   \n",
       "\n",
       "   total night minutes  total night calls  total night charge  \\\n",
       "0                244.7                 91               11.01   \n",
       "1                254.4                103               11.45   \n",
       "2                162.6                104                7.32   \n",
       "3                196.9                 89                8.86   \n",
       "4                186.9                121                8.41   \n",
       "\n",
       "   total intl minutes  total intl calls  total intl charge  \\\n",
       "0                10.0                 3               2.70   \n",
       "1                13.7                 3               3.70   \n",
       "2                12.2                 5               3.29   \n",
       "3                 6.6                 7               1.78   \n",
       "4                10.1                 3               2.73   \n",
       "\n",
       "   customer service calls  churn  \n",
       "0                       1  False  \n",
       "1                       1  False  \n",
       "2                       0  False  \n",
       "3                       2  False  \n",
       "4                       3  False  "
      ]
     },
     "execution_count": 2,
     "metadata": {},
     "output_type": "execute_result"
    }
   ],
   "source": [
    "# loading data\n",
    "df = pd.read_csv('data/telecom_dataset.csv')\n",
    "pd.set_option('display.max_columns', None)\n",
    "df.head()"
   ]
  },
  {
   "cell_type": "code",
   "execution_count": 3,
   "metadata": {},
   "outputs": [
    {
     "name": "stdout",
     "output_type": "stream",
     "text": [
      "<class 'pandas.core.frame.DataFrame'>\n",
      "RangeIndex: 3333 entries, 0 to 3332\n",
      "Data columns (total 21 columns):\n",
      " #   Column                  Non-Null Count  Dtype  \n",
      "---  ------                  --------------  -----  \n",
      " 0   state                   3333 non-null   object \n",
      " 1   account length          3333 non-null   int64  \n",
      " 2   area code               3333 non-null   int64  \n",
      " 3   phone number            3333 non-null   object \n",
      " 4   international plan      3333 non-null   object \n",
      " 5   voice mail plan         3333 non-null   object \n",
      " 6   number vmail messages   3333 non-null   int64  \n",
      " 7   total day minutes       3333 non-null   float64\n",
      " 8   total day calls         3333 non-null   int64  \n",
      " 9   total day charge        3333 non-null   float64\n",
      " 10  total eve minutes       3333 non-null   float64\n",
      " 11  total eve calls         3333 non-null   int64  \n",
      " 12  total eve charge        3333 non-null   float64\n",
      " 13  total night minutes     3333 non-null   float64\n",
      " 14  total night calls       3333 non-null   int64  \n",
      " 15  total night charge      3333 non-null   float64\n",
      " 16  total intl minutes      3333 non-null   float64\n",
      " 17  total intl calls        3333 non-null   int64  \n",
      " 18  total intl charge       3333 non-null   float64\n",
      " 19  customer service calls  3333 non-null   int64  \n",
      " 20  churn                   3333 non-null   bool   \n",
      "dtypes: bool(1), float64(8), int64(8), object(4)\n",
      "memory usage: 524.2+ KB\n"
     ]
    }
   ],
   "source": [
    "# display data info\n",
    "df.info()"
   ]
  },
  {
   "cell_type": "markdown",
   "metadata": {},
   "source": [
    "From the above information about the dataset, we can see that all of the columns have values, and the datatypes also match with each column in the dataset. \n",
    "\n",
    "Let's move into some descriptive statistics about our dataset."
   ]
  },
  {
   "cell_type": "markdown",
   "metadata": {},
   "source": [
    "### 3.2 Descriptive Statistics"
   ]
  },
  {
   "cell_type": "code",
   "execution_count": 4,
   "metadata": {},
   "outputs": [
    {
     "data": {
      "text/html": [
       "<div>\n",
       "<style scoped>\n",
       "    .dataframe tbody tr th:only-of-type {\n",
       "        vertical-align: middle;\n",
       "    }\n",
       "\n",
       "    .dataframe tbody tr th {\n",
       "        vertical-align: top;\n",
       "    }\n",
       "\n",
       "    .dataframe thead th {\n",
       "        text-align: right;\n",
       "    }\n",
       "</style>\n",
       "<table border=\"1\" class=\"dataframe\">\n",
       "  <thead>\n",
       "    <tr style=\"text-align: right;\">\n",
       "      <th></th>\n",
       "      <th>account length</th>\n",
       "      <th>area code</th>\n",
       "      <th>number vmail messages</th>\n",
       "      <th>total day minutes</th>\n",
       "      <th>total day calls</th>\n",
       "      <th>total day charge</th>\n",
       "      <th>total eve minutes</th>\n",
       "      <th>total eve calls</th>\n",
       "      <th>total eve charge</th>\n",
       "      <th>total night minutes</th>\n",
       "      <th>total night calls</th>\n",
       "      <th>total night charge</th>\n",
       "      <th>total intl minutes</th>\n",
       "      <th>total intl calls</th>\n",
       "      <th>total intl charge</th>\n",
       "      <th>customer service calls</th>\n",
       "    </tr>\n",
       "  </thead>\n",
       "  <tbody>\n",
       "    <tr>\n",
       "      <th>count</th>\n",
       "      <td>3333.000000</td>\n",
       "      <td>3333.000000</td>\n",
       "      <td>3333.000000</td>\n",
       "      <td>3333.000000</td>\n",
       "      <td>3333.000000</td>\n",
       "      <td>3333.000000</td>\n",
       "      <td>3333.000000</td>\n",
       "      <td>3333.000000</td>\n",
       "      <td>3333.000000</td>\n",
       "      <td>3333.000000</td>\n",
       "      <td>3333.000000</td>\n",
       "      <td>3333.000000</td>\n",
       "      <td>3333.000000</td>\n",
       "      <td>3333.000000</td>\n",
       "      <td>3333.000000</td>\n",
       "      <td>3333.000000</td>\n",
       "    </tr>\n",
       "    <tr>\n",
       "      <th>mean</th>\n",
       "      <td>101.064806</td>\n",
       "      <td>437.182418</td>\n",
       "      <td>8.099010</td>\n",
       "      <td>179.775098</td>\n",
       "      <td>100.435644</td>\n",
       "      <td>30.562307</td>\n",
       "      <td>200.980348</td>\n",
       "      <td>100.114311</td>\n",
       "      <td>17.083540</td>\n",
       "      <td>200.872037</td>\n",
       "      <td>100.107711</td>\n",
       "      <td>9.039325</td>\n",
       "      <td>10.237294</td>\n",
       "      <td>4.479448</td>\n",
       "      <td>2.764581</td>\n",
       "      <td>1.562856</td>\n",
       "    </tr>\n",
       "    <tr>\n",
       "      <th>std</th>\n",
       "      <td>39.822106</td>\n",
       "      <td>42.371290</td>\n",
       "      <td>13.688365</td>\n",
       "      <td>54.467389</td>\n",
       "      <td>20.069084</td>\n",
       "      <td>9.259435</td>\n",
       "      <td>50.713844</td>\n",
       "      <td>19.922625</td>\n",
       "      <td>4.310668</td>\n",
       "      <td>50.573847</td>\n",
       "      <td>19.568609</td>\n",
       "      <td>2.275873</td>\n",
       "      <td>2.791840</td>\n",
       "      <td>2.461214</td>\n",
       "      <td>0.753773</td>\n",
       "      <td>1.315491</td>\n",
       "    </tr>\n",
       "    <tr>\n",
       "      <th>min</th>\n",
       "      <td>1.000000</td>\n",
       "      <td>408.000000</td>\n",
       "      <td>0.000000</td>\n",
       "      <td>0.000000</td>\n",
       "      <td>0.000000</td>\n",
       "      <td>0.000000</td>\n",
       "      <td>0.000000</td>\n",
       "      <td>0.000000</td>\n",
       "      <td>0.000000</td>\n",
       "      <td>23.200000</td>\n",
       "      <td>33.000000</td>\n",
       "      <td>1.040000</td>\n",
       "      <td>0.000000</td>\n",
       "      <td>0.000000</td>\n",
       "      <td>0.000000</td>\n",
       "      <td>0.000000</td>\n",
       "    </tr>\n",
       "    <tr>\n",
       "      <th>25%</th>\n",
       "      <td>74.000000</td>\n",
       "      <td>408.000000</td>\n",
       "      <td>0.000000</td>\n",
       "      <td>143.700000</td>\n",
       "      <td>87.000000</td>\n",
       "      <td>24.430000</td>\n",
       "      <td>166.600000</td>\n",
       "      <td>87.000000</td>\n",
       "      <td>14.160000</td>\n",
       "      <td>167.000000</td>\n",
       "      <td>87.000000</td>\n",
       "      <td>7.520000</td>\n",
       "      <td>8.500000</td>\n",
       "      <td>3.000000</td>\n",
       "      <td>2.300000</td>\n",
       "      <td>1.000000</td>\n",
       "    </tr>\n",
       "    <tr>\n",
       "      <th>50%</th>\n",
       "      <td>101.000000</td>\n",
       "      <td>415.000000</td>\n",
       "      <td>0.000000</td>\n",
       "      <td>179.400000</td>\n",
       "      <td>101.000000</td>\n",
       "      <td>30.500000</td>\n",
       "      <td>201.400000</td>\n",
       "      <td>100.000000</td>\n",
       "      <td>17.120000</td>\n",
       "      <td>201.200000</td>\n",
       "      <td>100.000000</td>\n",
       "      <td>9.050000</td>\n",
       "      <td>10.300000</td>\n",
       "      <td>4.000000</td>\n",
       "      <td>2.780000</td>\n",
       "      <td>1.000000</td>\n",
       "    </tr>\n",
       "    <tr>\n",
       "      <th>75%</th>\n",
       "      <td>127.000000</td>\n",
       "      <td>510.000000</td>\n",
       "      <td>20.000000</td>\n",
       "      <td>216.400000</td>\n",
       "      <td>114.000000</td>\n",
       "      <td>36.790000</td>\n",
       "      <td>235.300000</td>\n",
       "      <td>114.000000</td>\n",
       "      <td>20.000000</td>\n",
       "      <td>235.300000</td>\n",
       "      <td>113.000000</td>\n",
       "      <td>10.590000</td>\n",
       "      <td>12.100000</td>\n",
       "      <td>6.000000</td>\n",
       "      <td>3.270000</td>\n",
       "      <td>2.000000</td>\n",
       "    </tr>\n",
       "    <tr>\n",
       "      <th>max</th>\n",
       "      <td>243.000000</td>\n",
       "      <td>510.000000</td>\n",
       "      <td>51.000000</td>\n",
       "      <td>350.800000</td>\n",
       "      <td>165.000000</td>\n",
       "      <td>59.640000</td>\n",
       "      <td>363.700000</td>\n",
       "      <td>170.000000</td>\n",
       "      <td>30.910000</td>\n",
       "      <td>395.000000</td>\n",
       "      <td>175.000000</td>\n",
       "      <td>17.770000</td>\n",
       "      <td>20.000000</td>\n",
       "      <td>20.000000</td>\n",
       "      <td>5.400000</td>\n",
       "      <td>9.000000</td>\n",
       "    </tr>\n",
       "  </tbody>\n",
       "</table>\n",
       "</div>"
      ],
      "text/plain": [
       "       account length    area code  number vmail messages  total day minutes  \\\n",
       "count     3333.000000  3333.000000            3333.000000        3333.000000   \n",
       "mean       101.064806   437.182418               8.099010         179.775098   \n",
       "std         39.822106    42.371290              13.688365          54.467389   \n",
       "min          1.000000   408.000000               0.000000           0.000000   \n",
       "25%         74.000000   408.000000               0.000000         143.700000   \n",
       "50%        101.000000   415.000000               0.000000         179.400000   \n",
       "75%        127.000000   510.000000              20.000000         216.400000   \n",
       "max        243.000000   510.000000              51.000000         350.800000   \n",
       "\n",
       "       total day calls  total day charge  total eve minutes  total eve calls  \\\n",
       "count      3333.000000       3333.000000        3333.000000      3333.000000   \n",
       "mean        100.435644         30.562307         200.980348       100.114311   \n",
       "std          20.069084          9.259435          50.713844        19.922625   \n",
       "min           0.000000          0.000000           0.000000         0.000000   \n",
       "25%          87.000000         24.430000         166.600000        87.000000   \n",
       "50%         101.000000         30.500000         201.400000       100.000000   \n",
       "75%         114.000000         36.790000         235.300000       114.000000   \n",
       "max         165.000000         59.640000         363.700000       170.000000   \n",
       "\n",
       "       total eve charge  total night minutes  total night calls  \\\n",
       "count       3333.000000          3333.000000        3333.000000   \n",
       "mean          17.083540           200.872037         100.107711   \n",
       "std            4.310668            50.573847          19.568609   \n",
       "min            0.000000            23.200000          33.000000   \n",
       "25%           14.160000           167.000000          87.000000   \n",
       "50%           17.120000           201.200000         100.000000   \n",
       "75%           20.000000           235.300000         113.000000   \n",
       "max           30.910000           395.000000         175.000000   \n",
       "\n",
       "       total night charge  total intl minutes  total intl calls  \\\n",
       "count         3333.000000         3333.000000       3333.000000   \n",
       "mean             9.039325           10.237294          4.479448   \n",
       "std              2.275873            2.791840          2.461214   \n",
       "min              1.040000            0.000000          0.000000   \n",
       "25%              7.520000            8.500000          3.000000   \n",
       "50%              9.050000           10.300000          4.000000   \n",
       "75%             10.590000           12.100000          6.000000   \n",
       "max             17.770000           20.000000         20.000000   \n",
       "\n",
       "       total intl charge  customer service calls  \n",
       "count        3333.000000             3333.000000  \n",
       "mean            2.764581                1.562856  \n",
       "std             0.753773                1.315491  \n",
       "min             0.000000                0.000000  \n",
       "25%             2.300000                1.000000  \n",
       "50%             2.780000                1.000000  \n",
       "75%             3.270000                2.000000  \n",
       "max             5.400000                9.000000  "
      ]
     },
     "execution_count": 4,
     "metadata": {},
     "output_type": "execute_result"
    }
   ],
   "source": [
    "# check for data statistical values\n",
    "df.describe()"
   ]
  },
  {
   "cell_type": "markdown",
   "metadata": {},
   "source": [
    "Looking at the maximum, minimum and mean values of each of our columns, we can see that our columns are not on the same unit. <br>\n",
    "This can lead to false results, when used with algorithms that are distance based like K-Nearest Neighbors, and for this, normalization of these columns will be necessary."
   ]
  },
  {
   "cell_type": "markdown",
   "metadata": {},
   "source": [
    "### 3.3 Data Cleaning\n",
    "In this section, we will check to see if our data satisfies several aspects of a cleaned data set that is ready for modelling, in particular, we'll be checking to see if our dataset satisfies the below;\n",
    "\n",
    "* Validity\n",
    "* Completeness\n",
    "* Consistency\n",
    "* Uniformity"
   ]
  },
  {
   "cell_type": "markdown",
   "metadata": {},
   "source": [
    "#### 3.3.1 Completeness\n",
    "For our data to load properly and work in our models, we need not have any missing values in our dataset, this part of the cleaning process checks to see if we might have any missing/null values, and imputes them."
   ]
  },
  {
   "cell_type": "code",
   "execution_count": 5,
   "metadata": {},
   "outputs": [
    {
     "data": {
      "text/plain": [
       "state                     0\n",
       "account length            0\n",
       "area code                 0\n",
       "phone number              0\n",
       "international plan        0\n",
       "voice mail plan           0\n",
       "number vmail messages     0\n",
       "total day minutes         0\n",
       "total day calls           0\n",
       "total day charge          0\n",
       "total eve minutes         0\n",
       "total eve calls           0\n",
       "total eve charge          0\n",
       "total night minutes       0\n",
       "total night calls         0\n",
       "total night charge        0\n",
       "total intl minutes        0\n",
       "total intl calls          0\n",
       "total intl charge         0\n",
       "customer service calls    0\n",
       "churn                     0\n",
       "dtype: int64"
      ]
     },
     "execution_count": 5,
     "metadata": {},
     "output_type": "execute_result"
    }
   ],
   "source": [
    "# check for null values in our \n",
    "df.isna().sum()"
   ]
  },
  {
   "cell_type": "markdown",
   "metadata": {},
   "source": [
    "The above results shows us that we have no null value in our dataset, hence the completeness of the dataset has been satisfied, let's move on to consistency."
   ]
  },
  {
   "cell_type": "markdown",
   "metadata": {},
   "source": [
    "#### 3.3.2 Consistency\n",
    "In consistency, we'll be checking to see if our dataset has any duplicates.\n",
    "\n",
    "This being a dataset containing mobile subscribers, we can use the column phone number to check if there is any subscriber who appears more than once in our dataset."
   ]
  },
  {
   "cell_type": "code",
   "execution_count": 6,
   "metadata": {},
   "outputs": [
    {
     "data": {
      "text/plain": [
       "0"
      ]
     },
     "execution_count": 6,
     "metadata": {},
     "output_type": "execute_result"
    }
   ],
   "source": [
    "df['phone number'].duplicated().sum()"
   ]
  },
  {
   "cell_type": "markdown",
   "metadata": {},
   "source": [
    "We can see that our dataset has no duplicates"
   ]
  },
  {
   "cell_type": "markdown",
   "metadata": {},
   "source": [
    "#### 3.3.3 Uniformity\n",
    "This is the checking of column dataset to see if it matches the data contained in the column.\n",
    "\n",
    "our target, churn column, has a boolean data type, lets convert it to integer"
   ]
  },
  {
   "cell_type": "code",
   "execution_count": 7,
   "metadata": {},
   "outputs": [],
   "source": [
    "df[\"churn\"] = df[\"churn\"].astype(int)"
   ]
  },
  {
   "cell_type": "markdown",
   "metadata": {},
   "source": [
    "#### 3.3.4 Validity\n",
    "Here we check to see if all the columns in the dataset are valid/useful for this analysis, dropping any that isn't useful. We might need all our columns for this analysis, hence we'll retain all of them for now\n",
    "\n",
    "In checking for validity, let's also convert the column names into a better format, by getting rid of the spaces in the names."
   ]
  },
  {
   "cell_type": "code",
   "execution_count": 8,
   "metadata": {},
   "outputs": [
    {
     "data": {
      "text/html": [
       "<div>\n",
       "<style scoped>\n",
       "    .dataframe tbody tr th:only-of-type {\n",
       "        vertical-align: middle;\n",
       "    }\n",
       "\n",
       "    .dataframe tbody tr th {\n",
       "        vertical-align: top;\n",
       "    }\n",
       "\n",
       "    .dataframe thead th {\n",
       "        text-align: right;\n",
       "    }\n",
       "</style>\n",
       "<table border=\"1\" class=\"dataframe\">\n",
       "  <thead>\n",
       "    <tr style=\"text-align: right;\">\n",
       "      <th></th>\n",
       "      <th>state</th>\n",
       "      <th>account_length</th>\n",
       "      <th>area_code</th>\n",
       "      <th>phone_number</th>\n",
       "      <th>international_plan</th>\n",
       "      <th>voice_mail_plan</th>\n",
       "      <th>number_vmail_messages</th>\n",
       "      <th>total_day_minutes</th>\n",
       "      <th>total_day_calls</th>\n",
       "      <th>total_day_charge</th>\n",
       "      <th>total_eve_minutes</th>\n",
       "      <th>total_eve_calls</th>\n",
       "      <th>total_eve_charge</th>\n",
       "      <th>total_night_minutes</th>\n",
       "      <th>total_night_calls</th>\n",
       "      <th>total_night_charge</th>\n",
       "      <th>total_intl_minutes</th>\n",
       "      <th>total_intl_calls</th>\n",
       "      <th>total_intl_charge</th>\n",
       "      <th>customer_service_calls</th>\n",
       "      <th>churn</th>\n",
       "    </tr>\n",
       "  </thead>\n",
       "  <tbody>\n",
       "    <tr>\n",
       "      <th>0</th>\n",
       "      <td>KS</td>\n",
       "      <td>128</td>\n",
       "      <td>415</td>\n",
       "      <td>382-4657</td>\n",
       "      <td>no</td>\n",
       "      <td>yes</td>\n",
       "      <td>25</td>\n",
       "      <td>265.1</td>\n",
       "      <td>110</td>\n",
       "      <td>45.07</td>\n",
       "      <td>197.4</td>\n",
       "      <td>99</td>\n",
       "      <td>16.78</td>\n",
       "      <td>244.7</td>\n",
       "      <td>91</td>\n",
       "      <td>11.01</td>\n",
       "      <td>10.0</td>\n",
       "      <td>3</td>\n",
       "      <td>2.70</td>\n",
       "      <td>1</td>\n",
       "      <td>0</td>\n",
       "    </tr>\n",
       "    <tr>\n",
       "      <th>1</th>\n",
       "      <td>OH</td>\n",
       "      <td>107</td>\n",
       "      <td>415</td>\n",
       "      <td>371-7191</td>\n",
       "      <td>no</td>\n",
       "      <td>yes</td>\n",
       "      <td>26</td>\n",
       "      <td>161.6</td>\n",
       "      <td>123</td>\n",
       "      <td>27.47</td>\n",
       "      <td>195.5</td>\n",
       "      <td>103</td>\n",
       "      <td>16.62</td>\n",
       "      <td>254.4</td>\n",
       "      <td>103</td>\n",
       "      <td>11.45</td>\n",
       "      <td>13.7</td>\n",
       "      <td>3</td>\n",
       "      <td>3.70</td>\n",
       "      <td>1</td>\n",
       "      <td>0</td>\n",
       "    </tr>\n",
       "    <tr>\n",
       "      <th>2</th>\n",
       "      <td>NJ</td>\n",
       "      <td>137</td>\n",
       "      <td>415</td>\n",
       "      <td>358-1921</td>\n",
       "      <td>no</td>\n",
       "      <td>no</td>\n",
       "      <td>0</td>\n",
       "      <td>243.4</td>\n",
       "      <td>114</td>\n",
       "      <td>41.38</td>\n",
       "      <td>121.2</td>\n",
       "      <td>110</td>\n",
       "      <td>10.30</td>\n",
       "      <td>162.6</td>\n",
       "      <td>104</td>\n",
       "      <td>7.32</td>\n",
       "      <td>12.2</td>\n",
       "      <td>5</td>\n",
       "      <td>3.29</td>\n",
       "      <td>0</td>\n",
       "      <td>0</td>\n",
       "    </tr>\n",
       "    <tr>\n",
       "      <th>3</th>\n",
       "      <td>OH</td>\n",
       "      <td>84</td>\n",
       "      <td>408</td>\n",
       "      <td>375-9999</td>\n",
       "      <td>yes</td>\n",
       "      <td>no</td>\n",
       "      <td>0</td>\n",
       "      <td>299.4</td>\n",
       "      <td>71</td>\n",
       "      <td>50.90</td>\n",
       "      <td>61.9</td>\n",
       "      <td>88</td>\n",
       "      <td>5.26</td>\n",
       "      <td>196.9</td>\n",
       "      <td>89</td>\n",
       "      <td>8.86</td>\n",
       "      <td>6.6</td>\n",
       "      <td>7</td>\n",
       "      <td>1.78</td>\n",
       "      <td>2</td>\n",
       "      <td>0</td>\n",
       "    </tr>\n",
       "    <tr>\n",
       "      <th>4</th>\n",
       "      <td>OK</td>\n",
       "      <td>75</td>\n",
       "      <td>415</td>\n",
       "      <td>330-6626</td>\n",
       "      <td>yes</td>\n",
       "      <td>no</td>\n",
       "      <td>0</td>\n",
       "      <td>166.7</td>\n",
       "      <td>113</td>\n",
       "      <td>28.34</td>\n",
       "      <td>148.3</td>\n",
       "      <td>122</td>\n",
       "      <td>12.61</td>\n",
       "      <td>186.9</td>\n",
       "      <td>121</td>\n",
       "      <td>8.41</td>\n",
       "      <td>10.1</td>\n",
       "      <td>3</td>\n",
       "      <td>2.73</td>\n",
       "      <td>3</td>\n",
       "      <td>0</td>\n",
       "    </tr>\n",
       "  </tbody>\n",
       "</table>\n",
       "</div>"
      ],
      "text/plain": [
       "  state  account_length  area_code phone_number international_plan  \\\n",
       "0    KS             128        415     382-4657                 no   \n",
       "1    OH             107        415     371-7191                 no   \n",
       "2    NJ             137        415     358-1921                 no   \n",
       "3    OH              84        408     375-9999                yes   \n",
       "4    OK              75        415     330-6626                yes   \n",
       "\n",
       "  voice_mail_plan  number_vmail_messages  total_day_minutes  total_day_calls  \\\n",
       "0             yes                     25              265.1              110   \n",
       "1             yes                     26              161.6              123   \n",
       "2              no                      0              243.4              114   \n",
       "3              no                      0              299.4               71   \n",
       "4              no                      0              166.7              113   \n",
       "\n",
       "   total_day_charge  total_eve_minutes  total_eve_calls  total_eve_charge  \\\n",
       "0             45.07              197.4               99             16.78   \n",
       "1             27.47              195.5              103             16.62   \n",
       "2             41.38              121.2              110             10.30   \n",
       "3             50.90               61.9               88              5.26   \n",
       "4             28.34              148.3              122             12.61   \n",
       "\n",
       "   total_night_minutes  total_night_calls  total_night_charge  \\\n",
       "0                244.7                 91               11.01   \n",
       "1                254.4                103               11.45   \n",
       "2                162.6                104                7.32   \n",
       "3                196.9                 89                8.86   \n",
       "4                186.9                121                8.41   \n",
       "\n",
       "   total_intl_minutes  total_intl_calls  total_intl_charge  \\\n",
       "0                10.0                 3               2.70   \n",
       "1                13.7                 3               3.70   \n",
       "2                12.2                 5               3.29   \n",
       "3                 6.6                 7               1.78   \n",
       "4                10.1                 3               2.73   \n",
       "\n",
       "   customer_service_calls  churn  \n",
       "0                       1      0  \n",
       "1                       1      0  \n",
       "2                       0      0  \n",
       "3                       2      0  \n",
       "4                       3      0  "
      ]
     },
     "execution_count": 8,
     "metadata": {},
     "output_type": "execute_result"
    }
   ],
   "source": [
    "# get our columns\n",
    "column_names = df.columns\n",
    "\n",
    "# create an empty column holder\n",
    "new_column_names = []\n",
    "\n",
    "# replace our empty spaces\n",
    "for item in column_names:\n",
    "    new_column_names.append(item.replace(' ', '_'))\n",
    "\n",
    "# rename the columns\n",
    "df.columns = new_column_names\n",
    "df.head()"
   ]
  },
  {
   "cell_type": "markdown",
   "metadata": {},
   "source": [
    "Our dataset has satisfied the cleaning conditions, and thus ready for model and analysis."
   ]
  },
  {
   "cell_type": "markdown",
   "metadata": {},
   "source": [
    "### 3.4 Exploratory Data Analysis (EDA)\n",
    "\n",
    "In trying to understand our data better, let's check for the distribution of the individual features in our dataset.\n",
    "\n",
    "\n",
    "Answer a few questions;\n",
    "* **What is the distribution of Expenditure by Time of the day?**\n",
    "* **What is the distribution of Revenue by State?**\n",
    "* **What is the distribution of revenue by Area Codes?**\n",
    "* **What is the relationship between account length and Expenditure?**\n",
    "* **What is the relationship between having a plan and expenditure?**\n",
    "\n",
    "\n"
   ]
  },
  {
   "cell_type": "markdown",
   "metadata": {},
   "source": [
    "#### 3.4.1 Feature Engineering\n",
    "To assist with the analysis, we shall add a new feature to our data set, representing the total expenditure by the customer, i.e day Expenditure plus evening expenditure, plus night and international calls."
   ]
  },
  {
   "cell_type": "code",
   "execution_count": 9,
   "metadata": {},
   "outputs": [
    {
     "data": {
      "text/html": [
       "<div>\n",
       "<style scoped>\n",
       "    .dataframe tbody tr th:only-of-type {\n",
       "        vertical-align: middle;\n",
       "    }\n",
       "\n",
       "    .dataframe tbody tr th {\n",
       "        vertical-align: top;\n",
       "    }\n",
       "\n",
       "    .dataframe thead th {\n",
       "        text-align: right;\n",
       "    }\n",
       "</style>\n",
       "<table border=\"1\" class=\"dataframe\">\n",
       "  <thead>\n",
       "    <tr style=\"text-align: right;\">\n",
       "      <th></th>\n",
       "      <th>state</th>\n",
       "      <th>account_length</th>\n",
       "      <th>area_code</th>\n",
       "      <th>phone_number</th>\n",
       "      <th>international_plan</th>\n",
       "      <th>voice_mail_plan</th>\n",
       "      <th>number_vmail_messages</th>\n",
       "      <th>total_day_minutes</th>\n",
       "      <th>total_day_calls</th>\n",
       "      <th>total_day_charge</th>\n",
       "      <th>total_eve_minutes</th>\n",
       "      <th>total_eve_calls</th>\n",
       "      <th>total_eve_charge</th>\n",
       "      <th>total_night_minutes</th>\n",
       "      <th>total_night_calls</th>\n",
       "      <th>total_night_charge</th>\n",
       "      <th>total_intl_minutes</th>\n",
       "      <th>total_intl_calls</th>\n",
       "      <th>total_intl_charge</th>\n",
       "      <th>customer_service_calls</th>\n",
       "      <th>churn</th>\n",
       "      <th>total_expenditure</th>\n",
       "    </tr>\n",
       "  </thead>\n",
       "  <tbody>\n",
       "    <tr>\n",
       "      <th>0</th>\n",
       "      <td>KS</td>\n",
       "      <td>128</td>\n",
       "      <td>415</td>\n",
       "      <td>382-4657</td>\n",
       "      <td>no</td>\n",
       "      <td>yes</td>\n",
       "      <td>25</td>\n",
       "      <td>265.1</td>\n",
       "      <td>110</td>\n",
       "      <td>45.07</td>\n",
       "      <td>197.4</td>\n",
       "      <td>99</td>\n",
       "      <td>16.78</td>\n",
       "      <td>244.7</td>\n",
       "      <td>91</td>\n",
       "      <td>11.01</td>\n",
       "      <td>10.0</td>\n",
       "      <td>3</td>\n",
       "      <td>2.70</td>\n",
       "      <td>1</td>\n",
       "      <td>0</td>\n",
       "      <td>75.56</td>\n",
       "    </tr>\n",
       "    <tr>\n",
       "      <th>1</th>\n",
       "      <td>OH</td>\n",
       "      <td>107</td>\n",
       "      <td>415</td>\n",
       "      <td>371-7191</td>\n",
       "      <td>no</td>\n",
       "      <td>yes</td>\n",
       "      <td>26</td>\n",
       "      <td>161.6</td>\n",
       "      <td>123</td>\n",
       "      <td>27.47</td>\n",
       "      <td>195.5</td>\n",
       "      <td>103</td>\n",
       "      <td>16.62</td>\n",
       "      <td>254.4</td>\n",
       "      <td>103</td>\n",
       "      <td>11.45</td>\n",
       "      <td>13.7</td>\n",
       "      <td>3</td>\n",
       "      <td>3.70</td>\n",
       "      <td>1</td>\n",
       "      <td>0</td>\n",
       "      <td>59.24</td>\n",
       "    </tr>\n",
       "    <tr>\n",
       "      <th>2</th>\n",
       "      <td>NJ</td>\n",
       "      <td>137</td>\n",
       "      <td>415</td>\n",
       "      <td>358-1921</td>\n",
       "      <td>no</td>\n",
       "      <td>no</td>\n",
       "      <td>0</td>\n",
       "      <td>243.4</td>\n",
       "      <td>114</td>\n",
       "      <td>41.38</td>\n",
       "      <td>121.2</td>\n",
       "      <td>110</td>\n",
       "      <td>10.30</td>\n",
       "      <td>162.6</td>\n",
       "      <td>104</td>\n",
       "      <td>7.32</td>\n",
       "      <td>12.2</td>\n",
       "      <td>5</td>\n",
       "      <td>3.29</td>\n",
       "      <td>0</td>\n",
       "      <td>0</td>\n",
       "      <td>62.29</td>\n",
       "    </tr>\n",
       "    <tr>\n",
       "      <th>3</th>\n",
       "      <td>OH</td>\n",
       "      <td>84</td>\n",
       "      <td>408</td>\n",
       "      <td>375-9999</td>\n",
       "      <td>yes</td>\n",
       "      <td>no</td>\n",
       "      <td>0</td>\n",
       "      <td>299.4</td>\n",
       "      <td>71</td>\n",
       "      <td>50.90</td>\n",
       "      <td>61.9</td>\n",
       "      <td>88</td>\n",
       "      <td>5.26</td>\n",
       "      <td>196.9</td>\n",
       "      <td>89</td>\n",
       "      <td>8.86</td>\n",
       "      <td>6.6</td>\n",
       "      <td>7</td>\n",
       "      <td>1.78</td>\n",
       "      <td>2</td>\n",
       "      <td>0</td>\n",
       "      <td>66.80</td>\n",
       "    </tr>\n",
       "    <tr>\n",
       "      <th>4</th>\n",
       "      <td>OK</td>\n",
       "      <td>75</td>\n",
       "      <td>415</td>\n",
       "      <td>330-6626</td>\n",
       "      <td>yes</td>\n",
       "      <td>no</td>\n",
       "      <td>0</td>\n",
       "      <td>166.7</td>\n",
       "      <td>113</td>\n",
       "      <td>28.34</td>\n",
       "      <td>148.3</td>\n",
       "      <td>122</td>\n",
       "      <td>12.61</td>\n",
       "      <td>186.9</td>\n",
       "      <td>121</td>\n",
       "      <td>8.41</td>\n",
       "      <td>10.1</td>\n",
       "      <td>3</td>\n",
       "      <td>2.73</td>\n",
       "      <td>3</td>\n",
       "      <td>0</td>\n",
       "      <td>52.09</td>\n",
       "    </tr>\n",
       "    <tr>\n",
       "      <th>5</th>\n",
       "      <td>AL</td>\n",
       "      <td>118</td>\n",
       "      <td>510</td>\n",
       "      <td>391-8027</td>\n",
       "      <td>yes</td>\n",
       "      <td>no</td>\n",
       "      <td>0</td>\n",
       "      <td>223.4</td>\n",
       "      <td>98</td>\n",
       "      <td>37.98</td>\n",
       "      <td>220.6</td>\n",
       "      <td>101</td>\n",
       "      <td>18.75</td>\n",
       "      <td>203.9</td>\n",
       "      <td>118</td>\n",
       "      <td>9.18</td>\n",
       "      <td>6.3</td>\n",
       "      <td>6</td>\n",
       "      <td>1.70</td>\n",
       "      <td>0</td>\n",
       "      <td>0</td>\n",
       "      <td>67.61</td>\n",
       "    </tr>\n",
       "    <tr>\n",
       "      <th>6</th>\n",
       "      <td>MA</td>\n",
       "      <td>121</td>\n",
       "      <td>510</td>\n",
       "      <td>355-9993</td>\n",
       "      <td>no</td>\n",
       "      <td>yes</td>\n",
       "      <td>24</td>\n",
       "      <td>218.2</td>\n",
       "      <td>88</td>\n",
       "      <td>37.09</td>\n",
       "      <td>348.5</td>\n",
       "      <td>108</td>\n",
       "      <td>29.62</td>\n",
       "      <td>212.6</td>\n",
       "      <td>118</td>\n",
       "      <td>9.57</td>\n",
       "      <td>7.5</td>\n",
       "      <td>7</td>\n",
       "      <td>2.03</td>\n",
       "      <td>3</td>\n",
       "      <td>0</td>\n",
       "      <td>78.31</td>\n",
       "    </tr>\n",
       "    <tr>\n",
       "      <th>7</th>\n",
       "      <td>MO</td>\n",
       "      <td>147</td>\n",
       "      <td>415</td>\n",
       "      <td>329-9001</td>\n",
       "      <td>yes</td>\n",
       "      <td>no</td>\n",
       "      <td>0</td>\n",
       "      <td>157.0</td>\n",
       "      <td>79</td>\n",
       "      <td>26.69</td>\n",
       "      <td>103.1</td>\n",
       "      <td>94</td>\n",
       "      <td>8.76</td>\n",
       "      <td>211.8</td>\n",
       "      <td>96</td>\n",
       "      <td>9.53</td>\n",
       "      <td>7.1</td>\n",
       "      <td>6</td>\n",
       "      <td>1.92</td>\n",
       "      <td>0</td>\n",
       "      <td>0</td>\n",
       "      <td>46.90</td>\n",
       "    </tr>\n",
       "    <tr>\n",
       "      <th>8</th>\n",
       "      <td>LA</td>\n",
       "      <td>117</td>\n",
       "      <td>408</td>\n",
       "      <td>335-4719</td>\n",
       "      <td>no</td>\n",
       "      <td>no</td>\n",
       "      <td>0</td>\n",
       "      <td>184.5</td>\n",
       "      <td>97</td>\n",
       "      <td>31.37</td>\n",
       "      <td>351.6</td>\n",
       "      <td>80</td>\n",
       "      <td>29.89</td>\n",
       "      <td>215.8</td>\n",
       "      <td>90</td>\n",
       "      <td>9.71</td>\n",
       "      <td>8.7</td>\n",
       "      <td>4</td>\n",
       "      <td>2.35</td>\n",
       "      <td>1</td>\n",
       "      <td>0</td>\n",
       "      <td>73.32</td>\n",
       "    </tr>\n",
       "    <tr>\n",
       "      <th>9</th>\n",
       "      <td>WV</td>\n",
       "      <td>141</td>\n",
       "      <td>415</td>\n",
       "      <td>330-8173</td>\n",
       "      <td>yes</td>\n",
       "      <td>yes</td>\n",
       "      <td>37</td>\n",
       "      <td>258.6</td>\n",
       "      <td>84</td>\n",
       "      <td>43.96</td>\n",
       "      <td>222.0</td>\n",
       "      <td>111</td>\n",
       "      <td>18.87</td>\n",
       "      <td>326.4</td>\n",
       "      <td>97</td>\n",
       "      <td>14.69</td>\n",
       "      <td>11.2</td>\n",
       "      <td>5</td>\n",
       "      <td>3.02</td>\n",
       "      <td>0</td>\n",
       "      <td>0</td>\n",
       "      <td>80.54</td>\n",
       "    </tr>\n",
       "  </tbody>\n",
       "</table>\n",
       "</div>"
      ],
      "text/plain": [
       "  state  account_length  area_code phone_number international_plan  \\\n",
       "0    KS             128        415     382-4657                 no   \n",
       "1    OH             107        415     371-7191                 no   \n",
       "2    NJ             137        415     358-1921                 no   \n",
       "3    OH              84        408     375-9999                yes   \n",
       "4    OK              75        415     330-6626                yes   \n",
       "5    AL             118        510     391-8027                yes   \n",
       "6    MA             121        510     355-9993                 no   \n",
       "7    MO             147        415     329-9001                yes   \n",
       "8    LA             117        408     335-4719                 no   \n",
       "9    WV             141        415     330-8173                yes   \n",
       "\n",
       "  voice_mail_plan  number_vmail_messages  total_day_minutes  total_day_calls  \\\n",
       "0             yes                     25              265.1              110   \n",
       "1             yes                     26              161.6              123   \n",
       "2              no                      0              243.4              114   \n",
       "3              no                      0              299.4               71   \n",
       "4              no                      0              166.7              113   \n",
       "5              no                      0              223.4               98   \n",
       "6             yes                     24              218.2               88   \n",
       "7              no                      0              157.0               79   \n",
       "8              no                      0              184.5               97   \n",
       "9             yes                     37              258.6               84   \n",
       "\n",
       "   total_day_charge  total_eve_minutes  total_eve_calls  total_eve_charge  \\\n",
       "0             45.07              197.4               99             16.78   \n",
       "1             27.47              195.5              103             16.62   \n",
       "2             41.38              121.2              110             10.30   \n",
       "3             50.90               61.9               88              5.26   \n",
       "4             28.34              148.3              122             12.61   \n",
       "5             37.98              220.6              101             18.75   \n",
       "6             37.09              348.5              108             29.62   \n",
       "7             26.69              103.1               94              8.76   \n",
       "8             31.37              351.6               80             29.89   \n",
       "9             43.96              222.0              111             18.87   \n",
       "\n",
       "   total_night_minutes  total_night_calls  total_night_charge  \\\n",
       "0                244.7                 91               11.01   \n",
       "1                254.4                103               11.45   \n",
       "2                162.6                104                7.32   \n",
       "3                196.9                 89                8.86   \n",
       "4                186.9                121                8.41   \n",
       "5                203.9                118                9.18   \n",
       "6                212.6                118                9.57   \n",
       "7                211.8                 96                9.53   \n",
       "8                215.8                 90                9.71   \n",
       "9                326.4                 97               14.69   \n",
       "\n",
       "   total_intl_minutes  total_intl_calls  total_intl_charge  \\\n",
       "0                10.0                 3               2.70   \n",
       "1                13.7                 3               3.70   \n",
       "2                12.2                 5               3.29   \n",
       "3                 6.6                 7               1.78   \n",
       "4                10.1                 3               2.73   \n",
       "5                 6.3                 6               1.70   \n",
       "6                 7.5                 7               2.03   \n",
       "7                 7.1                 6               1.92   \n",
       "8                 8.7                 4               2.35   \n",
       "9                11.2                 5               3.02   \n",
       "\n",
       "   customer_service_calls  churn  total_expenditure  \n",
       "0                       1      0              75.56  \n",
       "1                       1      0              59.24  \n",
       "2                       0      0              62.29  \n",
       "3                       2      0              66.80  \n",
       "4                       3      0              52.09  \n",
       "5                       0      0              67.61  \n",
       "6                       3      0              78.31  \n",
       "7                       0      0              46.90  \n",
       "8                       1      0              73.32  \n",
       "9                       0      0              80.54  "
      ]
     },
     "execution_count": 9,
     "metadata": {},
     "output_type": "execute_result"
    }
   ],
   "source": [
    "df['total_expenditure'] = df['total_day_charge'] \\\n",
    "                        + df['total_eve_charge'] \\\n",
    "                        + df['total_night_charge'] \\\n",
    "                        + df['total_intl_charge']\n",
    "\n",
    "df.head(10)"
   ]
  },
  {
   "cell_type": "markdown",
   "metadata": {},
   "source": [
    "#### 3.4.2 Describe the distribution of Expenditure by Time of the day.\n",
    "In this section, we'll check for the distribution of expenditure by the period of the day, to try and see the period of day that brings us the most revenue."
   ]
  },
  {
   "cell_type": "code",
   "execution_count": 10,
   "metadata": {},
   "outputs": [
    {
     "data": {
      "image/png": "[encoded data removed]",
      "text/plain": [
       "<Figure size 1080x432 with 1 Axes>"
      ]
     },
     "metadata": {
      "needs_background": "light"
     },
     "output_type": "display_data"
    }
   ],
   "source": [
    "total_day_revenue = df['total_day_charge'].sum()\n",
    "total_evening_revenue = df['total_eve_charge'].sum()\n",
    "total_night_revenue = df['total_night_charge'].sum()\n",
    "total_international_revenue = df['total_intl_charge'].sum()\n",
    "\n",
    "fig, ax = plt.subplots(figsize=(15, 6))\n",
    "\n",
    "time_of_day_value = [total_day_revenue, total_evening_revenue, total_night_revenue, total_international_revenue]\n",
    "data_label = ['total_day_revenue', 'total_evening_revenue', 'total_night_revenue', 'total_international_revenue']\n",
    "\n",
    "ax.bar(data_label, time_of_day_value, color='green')\n",
    "\n",
    "ax.set_xlabel(\"Time of Day\")\n",
    "ax.set_ylabel(\"Revenue\")\n",
    "ax.set_title(\"Distribution of Revenue by Time of the Day\");"
   ]
  },
  {
   "cell_type": "markdown",
   "metadata": {},
   "source": [
    "From our distribution, we can see that *total day* generates the highest revenue at more than 100,000 and *total international* generate the least revenue at less than 10,000."
   ]
  },
  {
   "cell_type": "markdown",
   "metadata": {},
   "source": [
    "#### 3.4.3 Describe the distribution of Revenue by State\n",
    "In this section, we'll be checking for the distribution of revenue by state."
   ]
  },
  {
   "cell_type": "code",
   "execution_count": 11,
   "metadata": {},
   "outputs": [
    {
     "data": {
      "image/png": "[encoded data removed]",
      "text/plain": [
       "<Figure size 1080x432 with 1 Axes>"
      ]
     },
     "metadata": {
      "needs_background": "light"
     },
     "output_type": "display_data"
    }
   ],
   "source": [
    "# get all the states\n",
    "state_expenditure = df[['state', 'total_expenditure']]\n",
    "\n",
    "# group our data by state and pick the top 10 states\n",
    "state_expenditure = state_expenditure.groupby(['state']).sum().reset_index().nlargest(10, 'total_expenditure')\n",
    "\n",
    "# plot our graph\n",
    "fig, ax = plt.subplots(figsize=(15, 6))\n",
    "\n",
    "revenue = state_expenditure['total_expenditure']\n",
    "data_label = state_expenditure['state']\n",
    "\n",
    "ax.bar(data_label, revenue, color='green')\n",
    "\n",
    "ax.set_xlabel(\"State\")\n",
    "ax.set_ylabel(\"Count\")\n",
    "ax.set_title(\"Distribution of Revenue by state\");\n",
    "\n"
   ]
  },
  {
   "cell_type": "markdown",
   "metadata": {},
   "source": [
    "From our top ten highest revenue states, West Virginia leads with over 6000, with the rest generating revenue between 5000 and 4000"
   ]
  },
  {
   "cell_type": "markdown",
   "metadata": {},
   "source": [
    "#### 3.4.4 Describe the distribution of revenue by Area Codes\n",
    "Let's check at the revenue by area codes, to see which sre our top grossing area codes."
   ]
  },
  {
   "cell_type": "code",
   "execution_count": 12,
   "metadata": {},
   "outputs": [
    {
     "data": {
      "text/plain": [
       "415    1655\n",
       "510     840\n",
       "408     838\n",
       "Name: area_code, dtype: int64"
      ]
     },
     "execution_count": 12,
     "metadata": {},
     "output_type": "execute_result"
    }
   ],
   "source": [
    "df.area_code.value_counts()"
   ]
  },
  {
   "cell_type": "code",
   "execution_count": 13,
   "metadata": {},
   "outputs": [
    {
     "data": {
      "image/png": "[encoded data removed]",
      "text/plain": [
       "<Figure size 1080x432 with 1 Axes>"
      ]
     },
     "metadata": {
      "needs_background": "light"
     },
     "output_type": "display_data"
    }
   ],
   "source": [
    "# get all the area codes\n",
    "area_code_revenue = df[['area_code', 'total_expenditure']]\n",
    "\n",
    "# group our data by area codes and pick the top 10 \n",
    "area_code_revenue = area_code_revenue.groupby(['area_code']).sum().reset_index()\n",
    "\n",
    "revenue = area_code_revenue['total_expenditure']\n",
    "data_label = [str(x) for x in area_code_revenue['area_code']]\n",
    "\n",
    "# plot our graph\n",
    "fig, ax = plt.subplots(figsize=(15, 6))\n",
    "# data_label\n",
    "\n",
    "ax.bar(data_label, revenue, color='green')\n",
    "\n",
    "ax.set_xlabel(\"Area Code\")\n",
    "ax.set_ylabel(\"Count\")\n",
    "ax.set_title(\"Distribution of Revenue by Area Code\");"
   ]
  },
  {
   "cell_type": "markdown",
   "metadata": {},
   "source": [
    "Our data shows us that Area code 415 is our highest grosser with revenue around 100,000 followed by area code 408 the 510."
   ]
  },
  {
   "cell_type": "markdown",
   "metadata": {},
   "source": [
    "#### 3.4.5 Describe the relationship between account length and Expenditure\n",
    "\n",
    "In this section, we'll be exploring to check if there is a relationship between account length and expenditure. Basically, we'll be answering the question, **Do customers who've been with the service for a longer period spend more than those new to the service?**\n",
    "\n",
    "To answer this question, we be using the columns *account_length* and *total_expenditure*. We will split the columns in two, using the lower quartile, or 25%, so that *account_length* below lower quatile will be considered as new clients, and *total_expenditure* below the lower quartile will be considered as low spenders.\n",
    "\n",
    "We will then create two new columns to capture the above, and encode them with Zero, for those below the lower quartile, and One otherwise."
   ]
  },
  {
   "cell_type": "code",
   "execution_count": 14,
   "metadata": {},
   "outputs": [
    {
     "data": {
      "text/html": [
       "<div>\n",
       "<style scoped>\n",
       "    .dataframe tbody tr th:only-of-type {\n",
       "        vertical-align: middle;\n",
       "    }\n",
       "\n",
       "    .dataframe tbody tr th {\n",
       "        vertical-align: top;\n",
       "    }\n",
       "\n",
       "    .dataframe thead th {\n",
       "        text-align: right;\n",
       "    }\n",
       "</style>\n",
       "<table border=\"1\" class=\"dataframe\">\n",
       "  <thead>\n",
       "    <tr style=\"text-align: right;\">\n",
       "      <th></th>\n",
       "      <th>account_length</th>\n",
       "      <th>area_code</th>\n",
       "      <th>number_vmail_messages</th>\n",
       "      <th>total_day_minutes</th>\n",
       "      <th>total_day_calls</th>\n",
       "      <th>total_day_charge</th>\n",
       "      <th>total_eve_minutes</th>\n",
       "      <th>total_eve_calls</th>\n",
       "      <th>total_eve_charge</th>\n",
       "      <th>total_night_minutes</th>\n",
       "      <th>total_night_calls</th>\n",
       "      <th>total_night_charge</th>\n",
       "      <th>total_intl_minutes</th>\n",
       "      <th>total_intl_calls</th>\n",
       "      <th>total_intl_charge</th>\n",
       "      <th>customer_service_calls</th>\n",
       "      <th>churn</th>\n",
       "      <th>total_expenditure</th>\n",
       "    </tr>\n",
       "  </thead>\n",
       "  <tbody>\n",
       "    <tr>\n",
       "      <th>count</th>\n",
       "      <td>3333.000000</td>\n",
       "      <td>3333.000000</td>\n",
       "      <td>3333.000000</td>\n",
       "      <td>3333.000000</td>\n",
       "      <td>3333.000000</td>\n",
       "      <td>3333.000000</td>\n",
       "      <td>3333.000000</td>\n",
       "      <td>3333.000000</td>\n",
       "      <td>3333.000000</td>\n",
       "      <td>3333.000000</td>\n",
       "      <td>3333.000000</td>\n",
       "      <td>3333.000000</td>\n",
       "      <td>3333.000000</td>\n",
       "      <td>3333.000000</td>\n",
       "      <td>3333.000000</td>\n",
       "      <td>3333.000000</td>\n",
       "      <td>3333.000000</td>\n",
       "      <td>3333.000000</td>\n",
       "    </tr>\n",
       "    <tr>\n",
       "      <th>mean</th>\n",
       "      <td>101.064806</td>\n",
       "      <td>437.182418</td>\n",
       "      <td>8.099010</td>\n",
       "      <td>179.775098</td>\n",
       "      <td>100.435644</td>\n",
       "      <td>30.562307</td>\n",
       "      <td>200.980348</td>\n",
       "      <td>100.114311</td>\n",
       "      <td>17.083540</td>\n",
       "      <td>200.872037</td>\n",
       "      <td>100.107711</td>\n",
       "      <td>9.039325</td>\n",
       "      <td>10.237294</td>\n",
       "      <td>4.479448</td>\n",
       "      <td>2.764581</td>\n",
       "      <td>1.562856</td>\n",
       "      <td>0.144914</td>\n",
       "      <td>59.449754</td>\n",
       "    </tr>\n",
       "    <tr>\n",
       "      <th>std</th>\n",
       "      <td>39.822106</td>\n",
       "      <td>42.371290</td>\n",
       "      <td>13.688365</td>\n",
       "      <td>54.467389</td>\n",
       "      <td>20.069084</td>\n",
       "      <td>9.259435</td>\n",
       "      <td>50.713844</td>\n",
       "      <td>19.922625</td>\n",
       "      <td>4.310668</td>\n",
       "      <td>50.573847</td>\n",
       "      <td>19.568609</td>\n",
       "      <td>2.275873</td>\n",
       "      <td>2.791840</td>\n",
       "      <td>2.461214</td>\n",
       "      <td>0.753773</td>\n",
       "      <td>1.315491</td>\n",
       "      <td>0.352067</td>\n",
       "      <td>10.502261</td>\n",
       "    </tr>\n",
       "    <tr>\n",
       "      <th>min</th>\n",
       "      <td>1.000000</td>\n",
       "      <td>408.000000</td>\n",
       "      <td>0.000000</td>\n",
       "      <td>0.000000</td>\n",
       "      <td>0.000000</td>\n",
       "      <td>0.000000</td>\n",
       "      <td>0.000000</td>\n",
       "      <td>0.000000</td>\n",
       "      <td>0.000000</td>\n",
       "      <td>23.200000</td>\n",
       "      <td>33.000000</td>\n",
       "      <td>1.040000</td>\n",
       "      <td>0.000000</td>\n",
       "      <td>0.000000</td>\n",
       "      <td>0.000000</td>\n",
       "      <td>0.000000</td>\n",
       "      <td>0.000000</td>\n",
       "      <td>22.930000</td>\n",
       "    </tr>\n",
       "    <tr>\n",
       "      <th>25%</th>\n",
       "      <td>74.000000</td>\n",
       "      <td>408.000000</td>\n",
       "      <td>0.000000</td>\n",
       "      <td>143.700000</td>\n",
       "      <td>87.000000</td>\n",
       "      <td>24.430000</td>\n",
       "      <td>166.600000</td>\n",
       "      <td>87.000000</td>\n",
       "      <td>14.160000</td>\n",
       "      <td>167.000000</td>\n",
       "      <td>87.000000</td>\n",
       "      <td>7.520000</td>\n",
       "      <td>8.500000</td>\n",
       "      <td>3.000000</td>\n",
       "      <td>2.300000</td>\n",
       "      <td>1.000000</td>\n",
       "      <td>0.000000</td>\n",
       "      <td>52.380000</td>\n",
       "    </tr>\n",
       "    <tr>\n",
       "      <th>50%</th>\n",
       "      <td>101.000000</td>\n",
       "      <td>415.000000</td>\n",
       "      <td>0.000000</td>\n",
       "      <td>179.400000</td>\n",
       "      <td>101.000000</td>\n",
       "      <td>30.500000</td>\n",
       "      <td>201.400000</td>\n",
       "      <td>100.000000</td>\n",
       "      <td>17.120000</td>\n",
       "      <td>201.200000</td>\n",
       "      <td>100.000000</td>\n",
       "      <td>9.050000</td>\n",
       "      <td>10.300000</td>\n",
       "      <td>4.000000</td>\n",
       "      <td>2.780000</td>\n",
       "      <td>1.000000</td>\n",
       "      <td>0.000000</td>\n",
       "      <td>59.470000</td>\n",
       "    </tr>\n",
       "    <tr>\n",
       "      <th>75%</th>\n",
       "      <td>127.000000</td>\n",
       "      <td>510.000000</td>\n",
       "      <td>20.000000</td>\n",
       "      <td>216.400000</td>\n",
       "      <td>114.000000</td>\n",
       "      <td>36.790000</td>\n",
       "      <td>235.300000</td>\n",
       "      <td>114.000000</td>\n",
       "      <td>20.000000</td>\n",
       "      <td>235.300000</td>\n",
       "      <td>113.000000</td>\n",
       "      <td>10.590000</td>\n",
       "      <td>12.100000</td>\n",
       "      <td>6.000000</td>\n",
       "      <td>3.270000</td>\n",
       "      <td>2.000000</td>\n",
       "      <td>0.000000</td>\n",
       "      <td>66.480000</td>\n",
       "    </tr>\n",
       "    <tr>\n",
       "      <th>max</th>\n",
       "      <td>243.000000</td>\n",
       "      <td>510.000000</td>\n",
       "      <td>51.000000</td>\n",
       "      <td>350.800000</td>\n",
       "      <td>165.000000</td>\n",
       "      <td>59.640000</td>\n",
       "      <td>363.700000</td>\n",
       "      <td>170.000000</td>\n",
       "      <td>30.910000</td>\n",
       "      <td>395.000000</td>\n",
       "      <td>175.000000</td>\n",
       "      <td>17.770000</td>\n",
       "      <td>20.000000</td>\n",
       "      <td>20.000000</td>\n",
       "      <td>5.400000</td>\n",
       "      <td>9.000000</td>\n",
       "      <td>1.000000</td>\n",
       "      <td>96.150000</td>\n",
       "    </tr>\n",
       "  </tbody>\n",
       "</table>\n",
       "</div>"
      ],
      "text/plain": [
       "       account_length    area_code  number_vmail_messages  total_day_minutes  \\\n",
       "count     3333.000000  3333.000000            3333.000000        3333.000000   \n",
       "mean       101.064806   437.182418               8.099010         179.775098   \n",
       "std         39.822106    42.371290              13.688365          54.467389   \n",
       "min          1.000000   408.000000               0.000000           0.000000   \n",
       "25%         74.000000   408.000000               0.000000         143.700000   \n",
       "50%        101.000000   415.000000               0.000000         179.400000   \n",
       "75%        127.000000   510.000000              20.000000         216.400000   \n",
       "max        243.000000   510.000000              51.000000         350.800000   \n",
       "\n",
       "       total_day_calls  total_day_charge  total_eve_minutes  total_eve_calls  \\\n",
       "count      3333.000000       3333.000000        3333.000000      3333.000000   \n",
       "mean        100.435644         30.562307         200.980348       100.114311   \n",
       "std          20.069084          9.259435          50.713844        19.922625   \n",
       "min           0.000000          0.000000           0.000000         0.000000   \n",
       "25%          87.000000         24.430000         166.600000        87.000000   \n",
       "50%         101.000000         30.500000         201.400000       100.000000   \n",
       "75%         114.000000         36.790000         235.300000       114.000000   \n",
       "max         165.000000         59.640000         363.700000       170.000000   \n",
       "\n",
       "       total_eve_charge  total_night_minutes  total_night_calls  \\\n",
       "count       3333.000000          3333.000000        3333.000000   \n",
       "mean          17.083540           200.872037         100.107711   \n",
       "std            4.310668            50.573847          19.568609   \n",
       "min            0.000000            23.200000          33.000000   \n",
       "25%           14.160000           167.000000          87.000000   \n",
       "50%           17.120000           201.200000         100.000000   \n",
       "75%           20.000000           235.300000         113.000000   \n",
       "max           30.910000           395.000000         175.000000   \n",
       "\n",
       "       total_night_charge  total_intl_minutes  total_intl_calls  \\\n",
       "count         3333.000000         3333.000000       3333.000000   \n",
       "mean             9.039325           10.237294          4.479448   \n",
       "std              2.275873            2.791840          2.461214   \n",
       "min              1.040000            0.000000          0.000000   \n",
       "25%              7.520000            8.500000          3.000000   \n",
       "50%              9.050000           10.300000          4.000000   \n",
       "75%             10.590000           12.100000          6.000000   \n",
       "max             17.770000           20.000000         20.000000   \n",
       "\n",
       "       total_intl_charge  customer_service_calls        churn  \\\n",
       "count        3333.000000             3333.000000  3333.000000   \n",
       "mean            2.764581                1.562856     0.144914   \n",
       "std             0.753773                1.315491     0.352067   \n",
       "min             0.000000                0.000000     0.000000   \n",
       "25%             2.300000                1.000000     0.000000   \n",
       "50%             2.780000                1.000000     0.000000   \n",
       "75%             3.270000                2.000000     0.000000   \n",
       "max             5.400000                9.000000     1.000000   \n",
       "\n",
       "       total_expenditure  \n",
       "count        3333.000000  \n",
       "mean           59.449754  \n",
       "std            10.502261  \n",
       "min            22.930000  \n",
       "25%            52.380000  \n",
       "50%            59.470000  \n",
       "75%            66.480000  \n",
       "max            96.150000  "
      ]
     },
     "execution_count": 14,
     "metadata": {},
     "output_type": "execute_result"
    }
   ],
   "source": [
    "df.describe()"
   ]
  },
  {
   "cell_type": "code",
   "execution_count": 15,
   "metadata": {},
   "outputs": [],
   "source": [
    "# encode our q1\n",
    "account_length_q1 = 74\n",
    "total_expenditure_q1 = 52\n",
    "\n",
    "# populate our regular_account column\n",
    "df['regular_account'] = 1\n",
    "df.loc[df[\"account_length\"] < account_length_q1 , \"regular_account\"] = 0\n",
    "\n",
    "# populate our high_spender\n",
    "df['high_spender'] = 1\n",
    "df.loc[df[\"total_expenditure\"] < total_expenditure_q1, \"high_spender\"] = 0"
   ]
  },
  {
   "cell_type": "markdown",
   "metadata": {},
   "source": [
    "Let's view the contingency table for the two new columns to see how they are distributed"
   ]
  },
  {
   "cell_type": "code",
   "execution_count": 16,
   "metadata": {},
   "outputs": [
    {
     "data": {
      "text/html": [
       "<div>\n",
       "<style scoped>\n",
       "    .dataframe tbody tr th:only-of-type {\n",
       "        vertical-align: middle;\n",
       "    }\n",
       "\n",
       "    .dataframe tbody tr th {\n",
       "        vertical-align: top;\n",
       "    }\n",
       "\n",
       "    .dataframe thead th {\n",
       "        text-align: right;\n",
       "    }\n",
       "</style>\n",
       "<table border=\"1\" class=\"dataframe\">\n",
       "  <thead>\n",
       "    <tr style=\"text-align: right;\">\n",
       "      <th>high_spender</th>\n",
       "      <th>0</th>\n",
       "      <th>1</th>\n",
       "    </tr>\n",
       "    <tr>\n",
       "      <th>regular_account</th>\n",
       "      <th></th>\n",
       "      <th></th>\n",
       "    </tr>\n",
       "  </thead>\n",
       "  <tbody>\n",
       "    <tr>\n",
       "      <th>0</th>\n",
       "      <td>198</td>\n",
       "      <td>627</td>\n",
       "    </tr>\n",
       "    <tr>\n",
       "      <th>1</th>\n",
       "      <td>590</td>\n",
       "      <td>1918</td>\n",
       "    </tr>\n",
       "  </tbody>\n",
       "</table>\n",
       "</div>"
      ],
      "text/plain": [
       "high_spender       0     1\n",
       "regular_account           \n",
       "0                198   627\n",
       "1                590  1918"
      ]
     },
     "execution_count": 16,
     "metadata": {},
     "output_type": "execute_result"
    }
   ],
   "source": [
    "contingency_table = pd.crosstab(index=df[\"regular_account\"], columns=df[\"high_spender\"])\n",
    "contingency_table"
   ]
  },
  {
   "cell_type": "markdown",
   "metadata": {},
   "source": [
    "we will not just stop at that, we will also plot them side by side to have a better view of the distribution"
   ]
  },
  {
   "cell_type": "code",
   "execution_count": 17,
   "metadata": {},
   "outputs": [
    {
     "data": {
      "image/png": "[encoded data removed]",
      "text/plain": [
       "<Figure size 1080x576 with 1 Axes>"
      ]
     },
     "metadata": {
      "needs_background": "light"
     },
     "output_type": "display_data"
    }
   ],
   "source": [
    "not_high_spender = df.loc[df[\"high_spender\"] == 0, \"regular_account\"]\n",
    "high_spender = df.loc[df[\"high_spender\"] == 1, \"regular_account\"]\n",
    "\n",
    "fig, ax = plt.subplots(figsize=(15,8))\n",
    "\n",
    "ax.hist(\n",
    "    x=[not_high_spender, high_spender],\n",
    "    label=[\"Not High Spender\", \"High Spender\"],\n",
    "    bins=[0,1,2],\n",
    "    align=\"left\"\n",
    ")\n",
    "\n",
    "ax.set_ylabel(\"Count\")\n",
    "ax.set_xticks([0,1])\n",
    "ax.set_xticklabels([\"Not Regular Account\", \"Regular Account\"])\n",
    "ax.set_title(\"Distribution of Expense by Account Length\")\n",
    "\n",
    "ax.legend();"
   ]
  },
  {
   "cell_type": "markdown",
   "metadata": {},
   "source": [
    "In the above example, because we are comparing two categorical values, we will use a chi-square test to compare the actual and the expected values of our categorical values.\n",
    "\n",
    "* **Null Hypothesis** : account length and total expenditure are independent\n",
    "* **Alternative Hypothesis** : account length and total expenditure are not independent"
   ]
  },
  {
   "cell_type": "code",
   "execution_count": 18,
   "metadata": {},
   "outputs": [
    {
     "name": "stdout",
     "output_type": "stream",
     "text": [
      "chi-squared p-value: 0.8169437496565264\n"
     ]
    },
    {
     "data": {
      "text/html": [
       "<div>\n",
       "<style scoped>\n",
       "    .dataframe tbody tr th:only-of-type {\n",
       "        vertical-align: middle;\n",
       "    }\n",
       "\n",
       "    .dataframe tbody tr th {\n",
       "        vertical-align: top;\n",
       "    }\n",
       "\n",
       "    .dataframe thead th {\n",
       "        text-align: right;\n",
       "    }\n",
       "</style>\n",
       "<table border=\"1\" class=\"dataframe\">\n",
       "  <thead>\n",
       "    <tr style=\"text-align: right;\">\n",
       "      <th>Expenditure</th>\n",
       "      <th>0</th>\n",
       "      <th>1</th>\n",
       "    </tr>\n",
       "    <tr>\n",
       "      <th>Regular</th>\n",
       "      <th></th>\n",
       "      <th></th>\n",
       "    </tr>\n",
       "  </thead>\n",
       "  <tbody>\n",
       "    <tr>\n",
       "      <th>0 (expected)</th>\n",
       "      <td>195.049505</td>\n",
       "      <td>629.950495</td>\n",
       "    </tr>\n",
       "    <tr>\n",
       "      <th>1 (expected)</th>\n",
       "      <td>592.950495</td>\n",
       "      <td>1915.049505</td>\n",
       "    </tr>\n",
       "    <tr>\n",
       "      <th>0 (actual)</th>\n",
       "      <td>198.000000</td>\n",
       "      <td>627.000000</td>\n",
       "    </tr>\n",
       "    <tr>\n",
       "      <th>1 (actual)</th>\n",
       "      <td>590.000000</td>\n",
       "      <td>1918.000000</td>\n",
       "    </tr>\n",
       "  </tbody>\n",
       "</table>\n",
       "</div>"
      ],
      "text/plain": [
       "Expenditure            0            1\n",
       "Regular                              \n",
       "0 (expected)  195.049505   629.950495\n",
       "1 (expected)  592.950495  1915.049505\n",
       "0 (actual)    198.000000   627.000000\n",
       "1 (actual)    590.000000  1918.000000"
      ]
     },
     "execution_count": 18,
     "metadata": {},
     "output_type": "execute_result"
    }
   ],
   "source": [
    "chi2, p, dof, expected = stats.chi2_contingency(contingency_table)\n",
    "\n",
    "print(\"chi-squared p-value:\", p)\n",
    "\n",
    "results_table = pd.concat([pd.DataFrame(expected), contingency_table])\n",
    "results_table.columns.name = \"Expenditure\"\n",
    "\n",
    "results_table.index = [\"0 (expected)\", \"1 (expected)\", \"0 (actual)\", \"1 (actual)\"]\n",
    "results_table.index.name = \"Regular\"\n",
    "results_table"
   ]
  },
  {
   "cell_type": "markdown",
   "metadata": {},
   "source": [
    "From our finding, our p-value is much greater than 0.05, at 0.8 and thus we cannot reject the Null hypothesis.\n",
    "\n",
    "This is also consistent with the results we have found. If expenditure was independent of account length, we expected roughly 592 accounts to be low spenders with regular accounts, and 1915 accounts to be high spenders with regular accounts, and the actual resutls we found are off our mark by less or more thn 3 accounts, indicating that Expenditure of an account is not tied by how long the account has been active.\n",
    "\n",
    "That is, it is not true that accounts that have been active for longer will spend more than accounts that have been around for much short period."
   ]
  },
  {
   "cell_type": "markdown",
   "metadata": {},
   "source": [
    "#### 3.4.6 Describe the relationship between having a plan and expenditure"
   ]
  },
  {
   "cell_type": "markdown",
   "metadata": {},
   "source": [
    "To explore this relationship, we will use the international plan column and the international plan charge, to see if there is a relationship between having a plan and expenditure. This can be translated to answering the question, **Does having a plan make a customer spend more?**\n",
    "\n",
    "In this example, we will use the lower quartile to separate our international charge, and also create a new column with booleans representing those with international plans."
   ]
  },
  {
   "cell_type": "code",
   "execution_count": 19,
   "metadata": {},
   "outputs": [],
   "source": [
    "# create a boolean column representing individuals with international call plans\n",
    "df['have_intl_plan'] = 1\n",
    "df.loc[df['international_plan'] == 'no', 'have_intl_plan'] = 0\n",
    "\n",
    "# create a new boolean column representing high international spenders\n",
    "df['intl_high_spender'] = 1\n",
    "df.loc[df['total_intl_charge'] <= 2.3, 'intl_high_spender'] = 0\n"
   ]
  },
  {
   "cell_type": "markdown",
   "metadata": {},
   "source": [
    "Let's also create a contingency for these values"
   ]
  },
  {
   "cell_type": "code",
   "execution_count": 20,
   "metadata": {},
   "outputs": [
    {
     "data": {
      "text/html": [
       "<div>\n",
       "<style scoped>\n",
       "    .dataframe tbody tr th:only-of-type {\n",
       "        vertical-align: middle;\n",
       "    }\n",
       "\n",
       "    .dataframe tbody tr th {\n",
       "        vertical-align: top;\n",
       "    }\n",
       "\n",
       "    .dataframe thead th {\n",
       "        text-align: right;\n",
       "    }\n",
       "</style>\n",
       "<table border=\"1\" class=\"dataframe\">\n",
       "  <thead>\n",
       "    <tr style=\"text-align: right;\">\n",
       "      <th>have_intl_plan</th>\n",
       "      <th>0</th>\n",
       "      <th>1</th>\n",
       "    </tr>\n",
       "    <tr>\n",
       "      <th>intl_high_spender</th>\n",
       "      <th></th>\n",
       "      <th></th>\n",
       "    </tr>\n",
       "  </thead>\n",
       "  <tbody>\n",
       "    <tr>\n",
       "      <th>0</th>\n",
       "      <td>793</td>\n",
       "      <td>66</td>\n",
       "    </tr>\n",
       "    <tr>\n",
       "      <th>1</th>\n",
       "      <td>2217</td>\n",
       "      <td>257</td>\n",
       "    </tr>\n",
       "  </tbody>\n",
       "</table>\n",
       "</div>"
      ],
      "text/plain": [
       "have_intl_plan        0    1\n",
       "intl_high_spender           \n",
       "0                   793   66\n",
       "1                  2217  257"
      ]
     },
     "execution_count": 20,
     "metadata": {},
     "output_type": "execute_result"
    }
   ],
   "source": [
    "contingency_table = pd.crosstab(index=df[\"intl_high_spender\"], columns=df[\"have_intl_plan\"])\n",
    "contingency_table"
   ]
  },
  {
   "cell_type": "markdown",
   "metadata": {},
   "source": [
    "then plot the contingency, to have a visual of the distribution"
   ]
  },
  {
   "cell_type": "code",
   "execution_count": 21,
   "metadata": {},
   "outputs": [
    {
     "data": {
      "image/png": "[encoded data removed]",
      "text/plain": [
       "<Figure size 1080x576 with 1 Axes>"
      ]
     },
     "metadata": {
      "needs_background": "light"
     },
     "output_type": "display_data"
    }
   ],
   "source": [
    "not_high_spender = df.loc[df[\"intl_high_spender\"] == 0, \"have_intl_plan\"]\n",
    "high_spender = df.loc[df[\"intl_high_spender\"] == 1, \"have_intl_plan\"]\n",
    "\n",
    "fig, ax = plt.subplots(figsize=(15,8))\n",
    "\n",
    "ax.hist(\n",
    "    x=[not_high_spender, high_spender],\n",
    "    label=[\"Not High Spender\", \"High Spender\"],\n",
    "    bins=[0,1,2],\n",
    "    align=\"left\"\n",
    ")\n",
    "\n",
    "ax.set_ylabel(\"Count\")\n",
    "ax.set_xticks([0,1])\n",
    "ax.set_xticklabels([\"No Internalional plan\", \"Has International plan\"])\n",
    "ax.set_title(\"Distribution of International Expense by Availability of an international plan\")\n",
    "\n",
    "ax.legend();"
   ]
  },
  {
   "cell_type": "markdown",
   "metadata": {},
   "source": [
    "Let's go ahead and define our hypotheses and use chi-square to check for the significance of the above.\n",
    "\n",
    "* **Null Hypothesis** : international plan and total total international expenditure are independent\n",
    "* **Alternative Hypothesis** : international plan and total total international expenditure are not independent"
   ]
  },
  {
   "cell_type": "code",
   "execution_count": 22,
   "metadata": {},
   "outputs": [
    {
     "name": "stdout",
     "output_type": "stream",
     "text": [
      "chi-squared p-value: 0.024983871701969154\n"
     ]
    },
    {
     "data": {
      "text/html": [
       "<div>\n",
       "<style scoped>\n",
       "    .dataframe tbody tr th:only-of-type {\n",
       "        vertical-align: middle;\n",
       "    }\n",
       "\n",
       "    .dataframe tbody tr th {\n",
       "        vertical-align: top;\n",
       "    }\n",
       "\n",
       "    .dataframe thead th {\n",
       "        text-align: right;\n",
       "    }\n",
       "</style>\n",
       "<table border=\"1\" class=\"dataframe\">\n",
       "  <thead>\n",
       "    <tr style=\"text-align: right;\">\n",
       "      <th>has plan</th>\n",
       "      <th>0</th>\n",
       "      <th>1</th>\n",
       "    </tr>\n",
       "    <tr>\n",
       "      <th>Expenditure</th>\n",
       "      <th></th>\n",
       "      <th></th>\n",
       "    </tr>\n",
       "  </thead>\n",
       "  <tbody>\n",
       "    <tr>\n",
       "      <th>0 (expected)</th>\n",
       "      <td>775.754575</td>\n",
       "      <td>83.245425</td>\n",
       "    </tr>\n",
       "    <tr>\n",
       "      <th>1 (expected)</th>\n",
       "      <td>2234.245425</td>\n",
       "      <td>239.754575</td>\n",
       "    </tr>\n",
       "    <tr>\n",
       "      <th>0 (actual)</th>\n",
       "      <td>793.000000</td>\n",
       "      <td>66.000000</td>\n",
       "    </tr>\n",
       "    <tr>\n",
       "      <th>1 (actual)</th>\n",
       "      <td>2217.000000</td>\n",
       "      <td>257.000000</td>\n",
       "    </tr>\n",
       "  </tbody>\n",
       "</table>\n",
       "</div>"
      ],
      "text/plain": [
       "has plan                0           1\n",
       "Expenditure                          \n",
       "0 (expected)   775.754575   83.245425\n",
       "1 (expected)  2234.245425  239.754575\n",
       "0 (actual)     793.000000   66.000000\n",
       "1 (actual)    2217.000000  257.000000"
      ]
     },
     "execution_count": 22,
     "metadata": {},
     "output_type": "execute_result"
    }
   ],
   "source": [
    "chi2, p, dof, expected = stats.chi2_contingency(contingency_table)\n",
    "\n",
    "print(\"chi-squared p-value:\", p)\n",
    "\n",
    "results_table = pd.concat([pd.DataFrame(expected), contingency_table])\n",
    "results_table.columns.name = \"has plan\"\n",
    "\n",
    "results_table.index = [\"0 (expected)\", \"1 (expected)\", \"0 (actual)\", \"1 (actual)\"]\n",
    "results_table.index.name = \"Expenditure\"\n",
    "results_table"
   ]
  },
  {
   "cell_type": "markdown",
   "metadata": {},
   "source": [
    "Our p_value is less than 0.05, hence we can reject the null hypothesis and conclude that accounts with international plans tend to spend more on average than those without.\n",
    "\n",
    "This as also evident from our contingency table results, where we expected about 239 account to have the plan and be high spenders. and we found 257 accounts instead to have the plan and be high spenders. The difference is not as big, but the p_values is small enough to make us confident about these results.\n",
    "\n",
    "Let us then try and check by how much on average that do those with an international plan tend to spend more than those without, on international charge."
   ]
  },
  {
   "cell_type": "code",
   "execution_count": 23,
   "metadata": {},
   "outputs": [
    {
     "data": {
      "text/html": [
       "<div>\n",
       "<style scoped>\n",
       "    .dataframe tbody tr th:only-of-type {\n",
       "        vertical-align: middle;\n",
       "    }\n",
       "\n",
       "    .dataframe tbody tr th {\n",
       "        vertical-align: top;\n",
       "    }\n",
       "\n",
       "    .dataframe thead th {\n",
       "        text-align: right;\n",
       "    }\n",
       "</style>\n",
       "<table border=\"1\" class=\"dataframe\">\n",
       "  <thead>\n",
       "    <tr style=\"text-align: right;\">\n",
       "      <th></th>\n",
       "      <th>total_intl_charge</th>\n",
       "    </tr>\n",
       "    <tr>\n",
       "      <th>have_intl_plan</th>\n",
       "      <th></th>\n",
       "    </tr>\n",
       "  </thead>\n",
       "  <tbody>\n",
       "    <tr>\n",
       "      <th>0</th>\n",
       "      <td>2.753279</td>\n",
       "    </tr>\n",
       "    <tr>\n",
       "      <th>1</th>\n",
       "      <td>2.869907</td>\n",
       "    </tr>\n",
       "  </tbody>\n",
       "</table>\n",
       "</div>"
      ],
      "text/plain": [
       "                total_intl_charge\n",
       "have_intl_plan                   \n",
       "0                        2.753279\n",
       "1                        2.869907"
      ]
     },
     "execution_count": 23,
     "metadata": {},
     "output_type": "execute_result"
    }
   ],
   "source": [
    "df1 = df[['have_intl_plan', 'total_intl_charge']]\n",
    "df1.groupby('have_intl_plan').mean()"
   ]
  },
  {
   "cell_type": "markdown",
   "metadata": {},
   "source": [
    "We can see that on average, accounts with international plan use 0.116628 Units about 4.2%."
   ]
  },
  {
   "cell_type": "markdown",
   "metadata": {},
   "source": [
    "### 3.4.7 Preprocessing\n",
    "Before moving into the Modelling part of this project, let's first do some final data preparations, including;\n",
    "\n",
    "\n",
    "**1. Dealing with multicollinearity.**\n",
    "\n",
    "We'll be using VIF(Variancle Inflation Factor) to check for highly correlated predictor values, and cfigure out how to handle them."
   ]
  },
  {
   "cell_type": "code",
   "execution_count": 24,
   "metadata": {},
   "outputs": [
    {
     "data": {
      "text/html": [
       "<div>\n",
       "<style scoped>\n",
       "    .dataframe tbody tr th:only-of-type {\n",
       "        vertical-align: middle;\n",
       "    }\n",
       "\n",
       "    .dataframe tbody tr th {\n",
       "        vertical-align: top;\n",
       "    }\n",
       "\n",
       "    .dataframe thead th {\n",
       "        text-align: right;\n",
       "    }\n",
       "</style>\n",
       "<table border=\"1\" class=\"dataframe\">\n",
       "  <thead>\n",
       "    <tr style=\"text-align: right;\">\n",
       "      <th></th>\n",
       "      <th>VIF</th>\n",
       "      <th>Column</th>\n",
       "    </tr>\n",
       "  </thead>\n",
       "  <tbody>\n",
       "    <tr>\n",
       "      <th>5</th>\n",
       "      <td>1.246078e+08</td>\n",
       "      <td>total_day_charge</td>\n",
       "    </tr>\n",
       "    <tr>\n",
       "      <th>3</th>\n",
       "      <td>1.246034e+08</td>\n",
       "      <td>total_day_minutes</td>\n",
       "    </tr>\n",
       "    <tr>\n",
       "      <th>8</th>\n",
       "      <td>3.741886e+07</td>\n",
       "      <td>total_eve_charge</td>\n",
       "    </tr>\n",
       "    <tr>\n",
       "      <th>6</th>\n",
       "      <td>3.741752e+07</td>\n",
       "      <td>total_eve_minutes</td>\n",
       "    </tr>\n",
       "    <tr>\n",
       "      <th>9</th>\n",
       "      <td>1.071952e+07</td>\n",
       "      <td>total_night_minutes</td>\n",
       "    </tr>\n",
       "    <tr>\n",
       "      <th>11</th>\n",
       "      <td>1.071916e+07</td>\n",
       "      <td>total_night_charge</td>\n",
       "    </tr>\n",
       "    <tr>\n",
       "      <th>14</th>\n",
       "      <td>9.979114e+05</td>\n",
       "      <td>total_intl_charge</td>\n",
       "    </tr>\n",
       "    <tr>\n",
       "      <th>12</th>\n",
       "      <td>9.975354e+05</td>\n",
       "      <td>total_intl_minutes</td>\n",
       "    </tr>\n",
       "    <tr>\n",
       "      <th>1</th>\n",
       "      <td>6.102501e+01</td>\n",
       "      <td>area_code</td>\n",
       "    </tr>\n",
       "    <tr>\n",
       "      <th>10</th>\n",
       "      <td>2.460108e+01</td>\n",
       "      <td>total_night_calls</td>\n",
       "    </tr>\n",
       "    <tr>\n",
       "      <th>7</th>\n",
       "      <td>2.375305e+01</td>\n",
       "      <td>total_eve_calls</td>\n",
       "    </tr>\n",
       "    <tr>\n",
       "      <th>4</th>\n",
       "      <td>2.361747e+01</td>\n",
       "      <td>total_day_calls</td>\n",
       "    </tr>\n",
       "    <tr>\n",
       "      <th>0</th>\n",
       "      <td>7.293103e+00</td>\n",
       "      <td>account_length</td>\n",
       "    </tr>\n",
       "    <tr>\n",
       "      <th>13</th>\n",
       "      <td>4.273501e+00</td>\n",
       "      <td>total_intl_calls</td>\n",
       "    </tr>\n",
       "    <tr>\n",
       "      <th>15</th>\n",
       "      <td>2.402765e+00</td>\n",
       "      <td>customer_service_calls</td>\n",
       "    </tr>\n",
       "    <tr>\n",
       "      <th>2</th>\n",
       "      <td>1.351056e+00</td>\n",
       "      <td>number_vmail_messages</td>\n",
       "    </tr>\n",
       "  </tbody>\n",
       "</table>\n",
       "</div>"
      ],
      "text/plain": [
       "             VIF                  Column\n",
       "5   1.246078e+08        total_day_charge\n",
       "3   1.246034e+08       total_day_minutes\n",
       "8   3.741886e+07        total_eve_charge\n",
       "6   3.741752e+07       total_eve_minutes\n",
       "9   1.071952e+07     total_night_minutes\n",
       "11  1.071916e+07      total_night_charge\n",
       "14  9.979114e+05       total_intl_charge\n",
       "12  9.975354e+05      total_intl_minutes\n",
       "1   6.102501e+01               area_code\n",
       "10  2.460108e+01       total_night_calls\n",
       "7   2.375305e+01         total_eve_calls\n",
       "4   2.361747e+01         total_day_calls\n",
       "0   7.293103e+00          account_length\n",
       "13  4.273501e+00        total_intl_calls\n",
       "15  2.402765e+00  customer_service_calls\n",
       "2   1.351056e+00   number_vmail_messages"
      ]
     },
     "execution_count": 24,
     "metadata": {},
     "output_type": "execute_result"
    }
   ],
   "source": [
    "# drop the columns that were feature engineered in the previous session\n",
    "# together with the object values\n",
    "values_to_check_multi_col = ['account_length', 'area_code', 'number_vmail_messages',\n",
    "       'total_day_minutes', 'total_day_calls', 'total_day_charge',\n",
    "       'total_eve_minutes', 'total_eve_calls', 'total_eve_charge',\n",
    "       'total_night_minutes', 'total_night_calls', 'total_night_charge',\n",
    "       'total_intl_minutes', 'total_intl_calls', 'total_intl_charge',\n",
    "       'customer_service_calls']\n",
    "\n",
    "# create a dataframe vif to store our vif output\n",
    "X = df[values_to_check_multi_col]\n",
    "\n",
    "vif_info = pd.DataFrame()\n",
    "vif_info['VIF'] = [variance_inflation_factor(X.values, i) for i in range(X.shape[1])]\n",
    "vif_info['Column'] = X.columns\n",
    "vif_info.sort_values('VIF', ascending=False)"
   ]
  },
  {
   "cell_type": "markdown",
   "metadata": {},
   "source": [
    "As we can see from our VIF check, most of our VIF are above 5, signalling some multicollinearity in our data set.\n",
    "\n",
    "To remove the multicollinearity, we have two options, the first is to remove the values with high VIF, the second is to create a new feature from the correlated values. Looking at our data set, we can see that *total charge* and *total minutes* are representative of the same values, and that *total charge* for the respective periods is a factor of the *total minutes*.\n",
    "\n",
    "Knowing this, we can drop one, and still retain our datasets value. Lets go ahead and drop *total minutes* and recheck our VIF values."
   ]
  },
  {
   "cell_type": "code",
   "execution_count": 25,
   "metadata": {},
   "outputs": [
    {
     "data": {
      "text/html": [
       "<div>\n",
       "<style scoped>\n",
       "    .dataframe tbody tr th:only-of-type {\n",
       "        vertical-align: middle;\n",
       "    }\n",
       "\n",
       "    .dataframe tbody tr th {\n",
       "        vertical-align: top;\n",
       "    }\n",
       "\n",
       "    .dataframe thead th {\n",
       "        text-align: right;\n",
       "    }\n",
       "</style>\n",
       "<table border=\"1\" class=\"dataframe\">\n",
       "  <thead>\n",
       "    <tr style=\"text-align: right;\">\n",
       "      <th></th>\n",
       "      <th>VIF</th>\n",
       "      <th>Column</th>\n",
       "    </tr>\n",
       "  </thead>\n",
       "  <tbody>\n",
       "    <tr>\n",
       "      <th>1</th>\n",
       "      <td>60.933137</td>\n",
       "      <td>area_code</td>\n",
       "    </tr>\n",
       "    <tr>\n",
       "      <th>7</th>\n",
       "      <td>24.596965</td>\n",
       "      <td>total_night_calls</td>\n",
       "    </tr>\n",
       "    <tr>\n",
       "      <th>5</th>\n",
       "      <td>23.723994</td>\n",
       "      <td>total_eve_calls</td>\n",
       "    </tr>\n",
       "    <tr>\n",
       "      <th>3</th>\n",
       "      <td>23.585816</td>\n",
       "      <td>total_day_calls</td>\n",
       "    </tr>\n",
       "    <tr>\n",
       "      <th>8</th>\n",
       "      <td>15.730470</td>\n",
       "      <td>total_night_charge</td>\n",
       "    </tr>\n",
       "    <tr>\n",
       "      <th>6</th>\n",
       "      <td>15.601088</td>\n",
       "      <td>total_eve_charge</td>\n",
       "    </tr>\n",
       "    <tr>\n",
       "      <th>10</th>\n",
       "      <td>13.648424</td>\n",
       "      <td>total_intl_charge</td>\n",
       "    </tr>\n",
       "    <tr>\n",
       "      <th>4</th>\n",
       "      <td>11.448811</td>\n",
       "      <td>total_day_charge</td>\n",
       "    </tr>\n",
       "    <tr>\n",
       "      <th>0</th>\n",
       "      <td>7.290513</td>\n",
       "      <td>account_length</td>\n",
       "    </tr>\n",
       "    <tr>\n",
       "      <th>9</th>\n",
       "      <td>4.269930</td>\n",
       "      <td>total_intl_calls</td>\n",
       "    </tr>\n",
       "    <tr>\n",
       "      <th>11</th>\n",
       "      <td>2.402062</td>\n",
       "      <td>customer_service_calls</td>\n",
       "    </tr>\n",
       "    <tr>\n",
       "      <th>2</th>\n",
       "      <td>1.349879</td>\n",
       "      <td>number_vmail_messages</td>\n",
       "    </tr>\n",
       "  </tbody>\n",
       "</table>\n",
       "</div>"
      ],
      "text/plain": [
       "          VIF                  Column\n",
       "1   60.933137               area_code\n",
       "7   24.596965       total_night_calls\n",
       "5   23.723994         total_eve_calls\n",
       "3   23.585816         total_day_calls\n",
       "8   15.730470      total_night_charge\n",
       "6   15.601088        total_eve_charge\n",
       "10  13.648424       total_intl_charge\n",
       "4   11.448811        total_day_charge\n",
       "0    7.290513          account_length\n",
       "9    4.269930        total_intl_calls\n",
       "11   2.402062  customer_service_calls\n",
       "2    1.349879   number_vmail_messages"
      ]
     },
     "execution_count": 25,
     "metadata": {},
     "output_type": "execute_result"
    }
   ],
   "source": [
    "values_to_check_multi_col = ['account_length', 'area_code', 'number_vmail_messages',\n",
    "       'total_day_calls', 'total_day_charge',\n",
    "       'total_eve_calls', 'total_eve_charge',\n",
    "       'total_night_calls', 'total_night_charge',\n",
    "       'total_intl_calls', 'total_intl_charge',\n",
    "       'customer_service_calls']\n",
    "\n",
    "\n",
    "# create a dataframe vif to store our vif output\n",
    "X = df[values_to_check_multi_col].copy()\n",
    "\n",
    "\n",
    "vif_info = pd.DataFrame()\n",
    "vif_info['VIF'] = [variance_inflation_factor(X.values, i) for i in range(X.shape[1])]\n",
    "vif_info['Column'] = X.columns\n",
    "vif_info.sort_values('VIF', ascending=False)"
   ]
  },
  {
   "cell_type": "markdown",
   "metadata": {},
   "source": [
    "That is much better, we have managed to reduce our VIF from the thousands to a max of 60. Normally a VIF should be atleast 5, but in this case because we are doing a prediction, multicollinearity should not be able to greatly affect my model, and so, we'll proceed with the about VIF"
   ]
  },
  {
   "cell_type": "markdown",
   "metadata": {},
   "source": [
    "**2. Define our X and y columns**\n",
    "\n",
    "We'll now need to move into creading our models, let's define our features and target into X for features and y for the target. the do a split test on these datasets."
   ]
  },
  {
   "cell_type": "code",
   "execution_count": 26,
   "metadata": {},
   "outputs": [],
   "source": [
    "features_to_include_in_X = ['account_length', 'area_code',\n",
    "       'international_plan', 'voice_mail_plan', 'number_vmail_messages',\n",
    "        'total_day_calls', 'total_day_charge',\n",
    "        'total_eve_calls', 'total_eve_charge',\n",
    "        'total_night_calls', 'total_night_charge',\n",
    "        'total_intl_calls', 'total_intl_charge',\n",
    "       'customer_service_calls']\n",
    "\n",
    "# we have dropped the total_minutes because of multicollinearity, together with state and phone\n",
    "X = df[features_to_include_in_X]\n",
    "y = df['churn']"
   ]
  },
  {
   "cell_type": "code",
   "execution_count": 27,
   "metadata": {},
   "outputs": [],
   "source": [
    "# do our split\n",
    "X_train, X_test, y_train, y_test = train_test_split(X, y, test_size=0.20, random_state=3)"
   ]
  },
  {
   "cell_type": "markdown",
   "metadata": {},
   "source": [
    "## 4. Modelling\n",
    "\n",
    "We will be creating a logistic regression model in this section, because the kind of question we are answering is a binary type of a question, in particular, we are going to answer the question, **Is a particular target going to churn or not**.\n",
    "\n",
    "After building our model, we'll check for overfitting and/or underfitting, at which point, depending on the one that arises, we'll deal with them accordingly.\n",
    "Regularization will probably be needed, because our modelling did have some considerable multicollinearirty, the regularization will thus be used to penalise these, in particular, a lasso will be used.\n",
    "\n",
    "We'll be using a RSS, as a measure of loss in our model.\n",
    "\n",
    "In terms of checking for how well our model works on unseen data, we'll generate a classification report, with all the metrics of measuring validation; precision, recall, accuracy and f1, after which, we'll use the most appropriate with the question at hand."
   ]
  },
  {
   "cell_type": "markdown",
   "metadata": {},
   "source": [
    "### 4.1 Scalling and Transformation"
   ]
  },
  {
   "cell_type": "code",
   "execution_count": 28,
   "metadata": {},
   "outputs": [
    {
     "data": {
      "text/html": [
       "<div>\n",
       "<style scoped>\n",
       "    .dataframe tbody tr th:only-of-type {\n",
       "        vertical-align: middle;\n",
       "    }\n",
       "\n",
       "    .dataframe tbody tr th {\n",
       "        vertical-align: top;\n",
       "    }\n",
       "\n",
       "    .dataframe thead th {\n",
       "        text-align: right;\n",
       "    }\n",
       "</style>\n",
       "<table border=\"1\" class=\"dataframe\">\n",
       "  <thead>\n",
       "    <tr style=\"text-align: right;\">\n",
       "      <th></th>\n",
       "      <th>account_length</th>\n",
       "      <th>area_code</th>\n",
       "      <th>number_vmail_messages</th>\n",
       "      <th>total_day_calls</th>\n",
       "      <th>total_day_charge</th>\n",
       "      <th>total_eve_calls</th>\n",
       "      <th>total_eve_charge</th>\n",
       "      <th>total_night_calls</th>\n",
       "      <th>total_night_charge</th>\n",
       "      <th>total_intl_calls</th>\n",
       "      <th>total_intl_charge</th>\n",
       "      <th>customer_service_calls</th>\n",
       "      <th>international_plan_yes</th>\n",
       "      <th>voice_mail_plan_yes</th>\n",
       "    </tr>\n",
       "  </thead>\n",
       "  <tbody>\n",
       "    <tr>\n",
       "      <th>459</th>\n",
       "      <td>0.209339</td>\n",
       "      <td>-0.522681</td>\n",
       "      <td>-0.590358</td>\n",
       "      <td>0.978116</td>\n",
       "      <td>0.074839</td>\n",
       "      <td>0.968500</td>\n",
       "      <td>-1.565162</td>\n",
       "      <td>-0.729025</td>\n",
       "      <td>-0.938015</td>\n",
       "      <td>-0.606853</td>\n",
       "      <td>0.280882</td>\n",
       "      <td>-1.167661</td>\n",
       "      <td>0</td>\n",
       "      <td>0</td>\n",
       "    </tr>\n",
       "    <tr>\n",
       "      <th>583</th>\n",
       "      <td>1.614246</td>\n",
       "      <td>-0.688339</td>\n",
       "      <td>-0.590358</td>\n",
       "      <td>-1.280160</td>\n",
       "      <td>-0.539400</td>\n",
       "      <td>-0.342554</td>\n",
       "      <td>-0.143609</td>\n",
       "      <td>-0.369872</td>\n",
       "      <td>2.163207</td>\n",
       "      <td>-1.016233</td>\n",
       "      <td>0.027610</td>\n",
       "      <td>-0.410612</td>\n",
       "      <td>0</td>\n",
       "      <td>0</td>\n",
       "    </tr>\n",
       "    <tr>\n",
       "      <th>2843</th>\n",
       "      <td>0.384953</td>\n",
       "      <td>-0.522681</td>\n",
       "      <td>-0.590358</td>\n",
       "      <td>0.024621</td>\n",
       "      <td>-2.132750</td>\n",
       "      <td>-0.241704</td>\n",
       "      <td>-0.090703</td>\n",
       "      <td>-0.677718</td>\n",
       "      <td>0.167069</td>\n",
       "      <td>0.621287</td>\n",
       "      <td>-0.079031</td>\n",
       "      <td>-0.410612</td>\n",
       "      <td>0</td>\n",
       "      <td>0</td>\n",
       "    </tr>\n",
       "    <tr>\n",
       "      <th>103</th>\n",
       "      <td>-0.141887</td>\n",
       "      <td>-0.688339</td>\n",
       "      <td>-0.590358</td>\n",
       "      <td>-0.075746</td>\n",
       "      <td>-0.824389</td>\n",
       "      <td>0.312973</td>\n",
       "      <td>-0.327628</td>\n",
       "      <td>0.091896</td>\n",
       "      <td>0.861568</td>\n",
       "      <td>1.849428</td>\n",
       "      <td>0.827415</td>\n",
       "      <td>-0.410612</td>\n",
       "      <td>0</td>\n",
       "      <td>0</td>\n",
       "    </tr>\n",
       "    <tr>\n",
       "      <th>3030</th>\n",
       "      <td>-1.596969</td>\n",
       "      <td>-0.522681</td>\n",
       "      <td>-0.590358</td>\n",
       "      <td>0.777380</td>\n",
       "      <td>0.210856</td>\n",
       "      <td>-0.040003</td>\n",
       "      <td>-0.645063</td>\n",
       "      <td>0.604971</td>\n",
       "      <td>0.293738</td>\n",
       "      <td>0.211907</td>\n",
       "      <td>1.360619</td>\n",
       "      <td>1.103485</td>\n",
       "      <td>0</td>\n",
       "      <td>0</td>\n",
       "    </tr>\n",
       "    <tr>\n",
       "      <th>...</th>\n",
       "      <td>...</td>\n",
       "      <td>...</td>\n",
       "      <td>...</td>\n",
       "      <td>...</td>\n",
       "      <td>...</td>\n",
       "      <td>...</td>\n",
       "      <td>...</td>\n",
       "      <td>...</td>\n",
       "      <td>...</td>\n",
       "      <td>...</td>\n",
       "      <td>...</td>\n",
       "      <td>...</td>\n",
       "      <td>...</td>\n",
       "      <td>...</td>\n",
       "    </tr>\n",
       "    <tr>\n",
       "      <th>3000</th>\n",
       "      <td>-0.342588</td>\n",
       "      <td>1.725536</td>\n",
       "      <td>-0.590358</td>\n",
       "      <td>0.426093</td>\n",
       "      <td>0.793789</td>\n",
       "      <td>-0.695531</td>\n",
       "      <td>-1.424847</td>\n",
       "      <td>-0.882948</td>\n",
       "      <td>1.726416</td>\n",
       "      <td>-0.197473</td>\n",
       "      <td>1.547240</td>\n",
       "      <td>1.103485</td>\n",
       "      <td>0</td>\n",
       "      <td>0</td>\n",
       "    </tr>\n",
       "    <tr>\n",
       "      <th>1667</th>\n",
       "      <td>-0.568377</td>\n",
       "      <td>-0.522681</td>\n",
       "      <td>-0.590358</td>\n",
       "      <td>-0.778321</td>\n",
       "      <td>0.242162</td>\n",
       "      <td>0.262548</td>\n",
       "      <td>-0.553053</td>\n",
       "      <td>0.964124</td>\n",
       "      <td>-1.414118</td>\n",
       "      <td>-1.425613</td>\n",
       "      <td>-0.012380</td>\n",
       "      <td>-1.167661</td>\n",
       "      <td>0</td>\n",
       "      <td>0</td>\n",
       "    </tr>\n",
       "    <tr>\n",
       "      <th>3321</th>\n",
       "      <td>-1.019954</td>\n",
       "      <td>-0.522681</td>\n",
       "      <td>-0.590358</td>\n",
       "      <td>0.877748</td>\n",
       "      <td>0.256195</td>\n",
       "      <td>0.514673</td>\n",
       "      <td>-2.255237</td>\n",
       "      <td>1.733738</td>\n",
       "      <td>0.167069</td>\n",
       "      <td>1.440048</td>\n",
       "      <td>1.067357</td>\n",
       "      <td>1.103485</td>\n",
       "      <td>0</td>\n",
       "      <td>0</td>\n",
       "    </tr>\n",
       "    <tr>\n",
       "      <th>1688</th>\n",
       "      <td>-0.066624</td>\n",
       "      <td>-0.522681</td>\n",
       "      <td>-0.590358</td>\n",
       "      <td>0.325725</td>\n",
       "      <td>-1.965427</td>\n",
       "      <td>0.161697</td>\n",
       "      <td>-0.274723</td>\n",
       "      <td>0.502356</td>\n",
       "      <td>-0.514326</td>\n",
       "      <td>-0.197473</td>\n",
       "      <td>0.107591</td>\n",
       "      <td>1.103485</td>\n",
       "      <td>0</td>\n",
       "      <td>0</td>\n",
       "    </tr>\n",
       "    <tr>\n",
       "      <th>1898</th>\n",
       "      <td>1.463720</td>\n",
       "      <td>-0.522681</td>\n",
       "      <td>-0.590358</td>\n",
       "      <td>0.124989</td>\n",
       "      <td>1.759947</td>\n",
       "      <td>0.413823</td>\n",
       "      <td>-0.212616</td>\n",
       "      <td>-0.369872</td>\n",
       "      <td>0.442248</td>\n",
       "      <td>0.211907</td>\n",
       "      <td>-1.012136</td>\n",
       "      <td>0.346436</td>\n",
       "      <td>0</td>\n",
       "      <td>0</td>\n",
       "    </tr>\n",
       "  </tbody>\n",
       "</table>\n",
       "<p>2666 rows × 14 columns</p>\n",
       "</div>"
      ],
      "text/plain": [
       "      account_length  area_code  number_vmail_messages  total_day_calls  \\\n",
       "459         0.209339  -0.522681              -0.590358         0.978116   \n",
       "583         1.614246  -0.688339              -0.590358        -1.280160   \n",
       "2843        0.384953  -0.522681              -0.590358         0.024621   \n",
       "103        -0.141887  -0.688339              -0.590358        -0.075746   \n",
       "3030       -1.596969  -0.522681              -0.590358         0.777380   \n",
       "...              ...        ...                    ...              ...   \n",
       "3000       -0.342588   1.725536              -0.590358         0.426093   \n",
       "1667       -0.568377  -0.522681              -0.590358        -0.778321   \n",
       "3321       -1.019954  -0.522681              -0.590358         0.877748   \n",
       "1688       -0.066624  -0.522681              -0.590358         0.325725   \n",
       "1898        1.463720  -0.522681              -0.590358         0.124989   \n",
       "\n",
       "      total_day_charge  total_eve_calls  total_eve_charge  total_night_calls  \\\n",
       "459           0.074839         0.968500         -1.565162          -0.729025   \n",
       "583          -0.539400        -0.342554         -0.143609          -0.369872   \n",
       "2843         -2.132750        -0.241704         -0.090703          -0.677718   \n",
       "103          -0.824389         0.312973         -0.327628           0.091896   \n",
       "3030          0.210856        -0.040003         -0.645063           0.604971   \n",
       "...                ...              ...               ...                ...   \n",
       "3000          0.793789        -0.695531         -1.424847          -0.882948   \n",
       "1667          0.242162         0.262548         -0.553053           0.964124   \n",
       "3321          0.256195         0.514673         -2.255237           1.733738   \n",
       "1688         -1.965427         0.161697         -0.274723           0.502356   \n",
       "1898          1.759947         0.413823         -0.212616          -0.369872   \n",
       "\n",
       "      total_night_charge  total_intl_calls  total_intl_charge  \\\n",
       "459            -0.938015         -0.606853           0.280882   \n",
       "583             2.163207         -1.016233           0.027610   \n",
       "2843            0.167069          0.621287          -0.079031   \n",
       "103             0.861568          1.849428           0.827415   \n",
       "3030            0.293738          0.211907           1.360619   \n",
       "...                  ...               ...                ...   \n",
       "3000            1.726416         -0.197473           1.547240   \n",
       "1667           -1.414118         -1.425613          -0.012380   \n",
       "3321            0.167069          1.440048           1.067357   \n",
       "1688           -0.514326         -0.197473           0.107591   \n",
       "1898            0.442248          0.211907          -1.012136   \n",
       "\n",
       "      customer_service_calls  international_plan_yes  voice_mail_plan_yes  \n",
       "459                -1.167661                       0                    0  \n",
       "583                -0.410612                       0                    0  \n",
       "2843               -0.410612                       0                    0  \n",
       "103                -0.410612                       0                    0  \n",
       "3030                1.103485                       0                    0  \n",
       "...                      ...                     ...                  ...  \n",
       "3000                1.103485                       0                    0  \n",
       "1667               -1.167661                       0                    0  \n",
       "3321                1.103485                       0                    0  \n",
       "1688                1.103485                       0                    0  \n",
       "1898                0.346436                       0                    0  \n",
       "\n",
       "[2666 rows x 14 columns]"
      ]
     },
     "execution_count": 28,
     "metadata": {},
     "output_type": "execute_result"
    }
   ],
   "source": [
    "# dealing with categorical features\n",
    "categorical_values = X_train[['international_plan', 'voice_mail_plan']]\n",
    "numerical_values = X_train.drop(categorical_values, axis=1)\n",
    "\n",
    "# use pandas get dummies to handle the categorical data\n",
    "new_cat_df = pd.get_dummies(categorical_values, drop_first=True)\n",
    "\n",
    "# scalling\n",
    "# instantiate\n",
    "scaler = StandardScaler()\n",
    "\n",
    "# fit and transform\n",
    "num_scaled = pd.DataFrame(\n",
    "    scaler.fit_transform(numerical_values),\n",
    "    index = numerical_values.index,\n",
    "    columns= numerical_values.columns\n",
    ")\n",
    "\n",
    "# create a new df from the encoding\n",
    "X_train_scaled = num_scaled.join(new_cat_df)\n",
    "\n",
    "X_train_scaled "
   ]
  },
  {
   "cell_type": "markdown",
   "metadata": {},
   "source": [
    "### 4.2 Base Model\n",
    "\n",
    "Our base model will be a logistics model consisting of a very large C and a solver of 'liblinear' passed into the logistic regresion model"
   ]
  },
  {
   "cell_type": "code",
   "execution_count": 29,
   "metadata": {},
   "outputs": [
    {
     "data": {
      "text/plain": [
       "LogisticRegression(C=10000000000.0, fit_intercept=False, solver='liblinear')"
      ]
     },
     "execution_count": 29,
     "metadata": {},
     "output_type": "execute_result"
    }
   ],
   "source": [
    "# build our base model\n",
    "# instantiate\n",
    "log_model = LogisticRegression(fit_intercept=False, C=1e10, solver='liblinear')\n",
    "\n",
    "# fit  the model\n",
    "log_model.fit(X_train_scaled, y_train)\n",
    "log_model"
   ]
  },
  {
   "cell_type": "code",
   "execution_count": 30,
   "metadata": {},
   "outputs": [
    {
     "name": "stdout",
     "output_type": "stream",
     "text": [
      "0    2287\n",
      "1     379\n",
      "Name: Residuals (counts), dtype: int64\n",
      "\n",
      "0    0.857839\n",
      "1    0.142161\n",
      "Name: Residuals (proportions), dtype: float64\n"
     ]
    }
   ],
   "source": [
    "# predict our target\n",
    "y_hat_train = log_model.predict(X_train_scaled)\n",
    "\n",
    "# let's check for the accuracy of our model by calculating the Residuals Square Sum\n",
    "# get the absolute value of our residuals\n",
    "train_residuals = np.abs(y_train - y_hat_train)\n",
    "\n",
    "print(pd.Series(train_residuals, name=\"Residuals (counts)\").value_counts())\n",
    "print()\n",
    "print(pd.Series(train_residuals, name=\"Residuals (proportions)\").value_counts(normalize=True))"
   ]
  },
  {
   "cell_type": "markdown",
   "metadata": {},
   "source": [
    "Our model was able to predict 86% of our train target correctly, let's see how it would work on unseen data, by testing it on our test dataset"
   ]
  },
  {
   "cell_type": "code",
   "execution_count": 31,
   "metadata": {},
   "outputs": [
    {
     "name": "stdout",
     "output_type": "stream",
     "text": [
      "0    569\n",
      "1     98\n",
      "Name: Residuals (counts), dtype: int64\n",
      "\n",
      "0    0.853073\n",
      "1    0.146927\n",
      "Name: Residuals (proportions), dtype: float64\n"
     ]
    }
   ],
   "source": [
    "## Deal with categorical columns ##\n",
    "categorical_values = X_test[['international_plan', 'voice_mail_plan']]\n",
    "numerical_values = X_test.drop(categorical_values, axis=1)\n",
    "\n",
    "## Transform categorical columns ##\n",
    "# use pandas get dummies to handle the categorical data\n",
    "new_cat_df = pd.get_dummies(categorical_values, drop_first=True)\n",
    "\n",
    "\n",
    "## scalling ##\n",
    "# instantiate\n",
    "scaler = StandardScaler()\n",
    "\n",
    "# fit and transform\n",
    "num_scaled = pd.DataFrame(\n",
    "    scaler.fit_transform(numerical_values),\n",
    "    index = numerical_values.index,\n",
    "    columns= numerical_values.columns\n",
    ")\n",
    "\n",
    "# create a new df from the encoding\n",
    "X_test_scaled = num_scaled.join(new_cat_df)\n",
    "\n",
    "\n",
    "## predict using our initial model ##\n",
    "y_hat_test = log_model.predict(X_test_scaled)\n",
    "\n",
    "## calculate our RSS ##\n",
    "test_residuals = np.abs(y_test - y_hat_test)\n",
    "\n",
    "print(pd.Series(test_residuals, name=\"Residuals (counts)\").value_counts())\n",
    "print()\n",
    "print(pd.Series(test_residuals, name=\"Residuals (proportions)\").value_counts(normalize=True))"
   ]
  },
  {
   "cell_type": "markdown",
   "metadata": {},
   "source": [
    "Let's check for the precision, recall, accuracy and f1 score, to see more details about our models performance on the test set."
   ]
  },
  {
   "cell_type": "code",
   "execution_count": 32,
   "metadata": {},
   "outputs": [
    {
     "name": "stdout",
     "output_type": "stream",
     "text": [
      "Precision Score: 0.45\n",
      "Recall Score: 0.19148936170212766\n",
      "Accuracy Score: 0.8530734632683659\n",
      "F1 Score: 0.26865671641791045\n"
     ]
    }
   ],
   "source": [
    "# Create a function to check the precision, recall, accuracy and f1 of our models\n",
    "def print_metrics(labels, preds):\n",
    "    print(\"Precision Score: {}\".format(precision_score(labels, preds)))\n",
    "    print(\"Recall Score: {}\".format(recall_score(labels, preds)))\n",
    "    print(\"Accuracy Score: {}\".format(accuracy_score(labels, preds)))\n",
    "    print(\"F1 Score: {}\".format(f1_score(labels, preds)))\n",
    "\n",
    "print_metrics(y_test, y_hat_test)"
   ]
  },
  {
   "cell_type": "markdown",
   "metadata": {},
   "source": [
    "Our Accuracy is quite good, at 85%, this is the total number of predictions our model got right. This can be quite an illusive because of the level of imbalance in our dataset. One class is about 85% of the dataset, this means that even by randomly guessing the larger class, by probability, we should have an accuracy of 85%.\n",
    "\n",
    "Let's us build another model, this time, let's consider reducing the imbalance of our classes in the dataset using SMOTE, and use ROC(Receiver Operating Characteristic) Curve and AUC for validating our model instead of RSS(Residue Squared Sum)."
   ]
  },
  {
   "cell_type": "markdown",
   "metadata": {},
   "source": [
    "### 4.3 Model 2 : with some tuning\n",
    "\n",
    "Let's first plot the vanilla Logistic Regression model, with ROC and AUC for our model validation"
   ]
  },
  {
   "cell_type": "code",
   "execution_count": 33,
   "metadata": {},
   "outputs": [
    {
     "name": "stdout",
     "output_type": "stream",
     "text": [
      "Train AUC: 0.8282286371031202\n",
      "Test AUC: 0.7963313653410568\n"
     ]
    },
    {
     "data": {
      "image/png": "[encoded data removed]",
      "text/plain": [
       "<Figure size 720x576 with 1 Axes>"
      ]
     },
     "metadata": {
      "needs_background": "light"
     },
     "output_type": "display_data"
    }
   ],
   "source": [
    "# Initial Model\n",
    "log_model_2 = LogisticRegression()\n",
    "\n",
    "log_model_2.fit(X_train_scaled, y_train)\n",
    "\n",
    "y_train_score = log_model_2.decision_function(X_train_scaled)\n",
    "y_test_score = log_model_2.decision_function(X_test_scaled)\n",
    "\n",
    "train_fpr, train_tpr, train_thresholds = roc_curve(y_train, y_train_score)\n",
    "test_fpr, test_tpr, test_thresholds = roc_curve(y_test, y_test_score)\n",
    "\n",
    "print('Train AUC: {}'.format(auc(train_fpr, train_tpr)))\n",
    "print('Test AUC: {}'.format(auc(test_fpr, test_tpr)))\n",
    "\n",
    "plt.figure(figsize=(10, 8))\n",
    "lw = 2\n",
    "\n",
    "plt.plot(train_fpr, train_tpr, color='blue',\n",
    "         lw=lw, label='Train ROC curve')\n",
    "plt.plot(test_fpr, test_tpr, color='darkorange',\n",
    "         lw=lw, label='Test ROC curve')\n",
    "\n",
    "plt.plot([0, 1], [0, 1], color='navy', lw=lw, linestyle='--')\n",
    "plt.xlim([0.0, 1.0])\n",
    "plt.ylim([0.0, 1.05])\n",
    "plt.yticks([i/20.0 for i in range(21)])\n",
    "plt.xticks([i/20.0 for i in range(21)])\n",
    "plt.xlabel('False Positive Rate')\n",
    "plt.ylabel('True Positive Rate')\n",
    "plt.title('Receiver operating characteristic (ROC) Curve')\n",
    "plt.legend(loc='lower right')\n",
    "plt.show()"
   ]
  },
  {
   "cell_type": "code",
   "execution_count": 54,
   "metadata": {},
   "outputs": [
    {
     "data": {
      "image/png": "[encoded data removed]",
      "text/plain": [
       "<Figure size 432x288 with 2 Axes>"
      ]
     },
     "metadata": {
      "needs_background": "light"
     },
     "output_type": "display_data"
    }
   ],
   "source": [
    "# confusion report\n",
    "# Plot confusion matrix of the test set\n",
    "plot_confusion_matrix(log_model_2, X_test_scaled, y_test,\n",
    "                      display_labels=[\"no churn\", \"churn\"],\n",
    "                      values_format=\".5g\")\n",
    "plt.grid(False) # removes the annoying grid lines from plot\n",
    "plt.show()"
   ]
  },
  {
   "cell_type": "code",
   "execution_count": 35,
   "metadata": {},
   "outputs": [
    {
     "name": "stdout",
     "output_type": "stream",
     "text": [
      "Precision Score: 0.5151515151515151\n",
      "Recall Score: 0.18085106382978725\n",
      "Accuracy Score: 0.8605697151424287\n",
      "F1 Score: 0.2677165354330709\n"
     ]
    }
   ],
   "source": [
    "y_hat_test = log_model_2.predict(X_test_scaled)\n",
    "print_metrics(y_test, y_hat_test)"
   ]
  },
  {
   "cell_type": "markdown",
   "metadata": {},
   "source": [
    "\n",
    "\n",
    "Because of the imbalance and nature of our problem(Binary target), using Residue for validation could have easily tricked us, thats why using a more reliable metric for validation like ROC curve and AUC which allow us to determine optimal precision-recall tradeoff balances specific to the problem you are looking to solve.\n",
    "\n",
    "Let's now remove the imbalance and try to tune our model more to increase our scores."
   ]
  },
  {
   "cell_type": "markdown",
   "metadata": {},
   "source": [
    "### 4.4 Model 3 : More tuning\n",
    "\n",
    "We'll use SMOTE to offset the imbalance, to see if we'd get a better AUC curve with that."
   ]
  },
  {
   "cell_type": "code",
   "execution_count": 36,
   "metadata": {},
   "outputs": [
    {
     "name": "stdout",
     "output_type": "stream",
     "text": [
      "Train AUC: 0.8160551882268099\n",
      "Test AUC: 0.7913742527199138\n"
     ]
    },
    {
     "data": {
      "image/png": "[encoded data removed]",
      "text/plain": [
       "<Figure size 720x576 with 1 Axes>"
      ]
     },
     "metadata": {
      "needs_background": "light"
     },
     "output_type": "display_data"
    }
   ],
   "source": [
    "# handle the imbalance\n",
    "X_train_resampled, y_train_resampled = SMOTE().fit_resample(X_train_scaled, y_train)\n",
    "\n",
    "log_model_3 = LogisticRegression()\n",
    "\n",
    "log_model_3.fit(X_train_resampled, y_train_resampled)\n",
    "\n",
    "y_train_score = log_model_3.decision_function(X_train_resampled)\n",
    "y_test_score = log_model_3.decision_function(X_test_scaled)\n",
    "\n",
    "train_fpr, train_tpr, train_thresholds = roc_curve(y_train_resampled, y_train_score)\n",
    "test_fpr, test_tpr, test_thresholds = roc_curve(y_test, y_test_score)\n",
    "\n",
    "print('Train AUC: {}'.format(auc(train_fpr, train_tpr)))\n",
    "print('Test AUC: {}'.format(auc(test_fpr, test_tpr)))\n",
    "\n",
    "plt.figure(figsize=(10, 8))\n",
    "lw = 2\n",
    "\n",
    "plt.plot(train_fpr, train_tpr, color='blue',\n",
    "         lw=lw, label='Train ROC curve')\n",
    "plt.plot(test_fpr, test_tpr, color='darkorange',\n",
    "         lw=lw, label='Test ROC curve')\n",
    "\n",
    "plt.plot([0, 1], [0, 1], color='navy', lw=lw, linestyle='--')\n",
    "plt.xlim([0.0, 1.0])\n",
    "plt.ylim([0.0, 1.05])\n",
    "plt.yticks([i/20.0 for i in range(21)])\n",
    "plt.xticks([i/20.0 for i in range(21)])\n",
    "plt.xlabel('False Positive Rate')\n",
    "plt.ylabel('True Positive Rate')\n",
    "plt.title('Receiver operating characteristic (ROC) Curve')\n",
    "plt.legend(loc='lower right')\n",
    "plt.show()\n"
   ]
  },
  {
   "cell_type": "markdown",
   "metadata": {},
   "source": [
    "let's see how these results reflect on a confusion matrix and a classification report."
   ]
  },
  {
   "cell_type": "code",
   "execution_count": 53,
   "metadata": {},
   "outputs": [
    {
     "data": {
      "image/png": "[encoded data removed]",
      "text/plain": [
       "<Figure size 432x288 with 2 Axes>"
      ]
     },
     "metadata": {
      "needs_background": "light"
     },
     "output_type": "display_data"
    }
   ],
   "source": [
    "# confusion report\n",
    "# Plot confusion matrix of the test set\n",
    "plot_confusion_matrix(log_model_3, X_test_scaled, y_test,\n",
    "                      display_labels=[\"no churn\", \"churn\"],\n",
    "                      values_format=\".5g\")\n",
    "plt.grid(False) # removes the annoying grid lines from plot\n",
    "plt.show()"
   ]
  },
  {
   "cell_type": "code",
   "execution_count": 38,
   "metadata": {},
   "outputs": [
    {
     "name": "stdout",
     "output_type": "stream",
     "text": [
      "Precision Score: 0.31981981981981983\n",
      "Recall Score: 0.7553191489361702\n",
      "Accuracy Score: 0.7391304347826086\n",
      "F1 Score: 0.44936708860759494\n"
     ]
    }
   ],
   "source": [
    "y_hat_test = log_model_3.predict(X_test_scaled)\n",
    "print_metrics(y_test, y_hat_test)"
   ]
  },
  {
   "cell_type": "markdown",
   "metadata": {},
   "source": [
    "So with resampling, our model accuracy actually reduced from 86% down to 73%, however, our recall and f1-score have made some improvements, showing that the model has started to get some balanced predictions between the precision and recall. going forward, we'll consider F1-score as the most importance metric for our validation, and put more emphasis on increasing it.\n",
    "\n",
    "Let's build another model this time, ultering the parameters, to see if this might improve our model"
   ]
  },
  {
   "cell_type": "code",
   "execution_count": 39,
   "metadata": {},
   "outputs": [
    {
     "name": "stdout",
     "output_type": "stream",
     "text": [
      "Train AUC: 0.8197784300780234\n",
      "Test AUC: 0.7919312316661098\n"
     ]
    },
    {
     "data": {
      "image/png": "[encoded data removed]",
      "text/plain": [
       "<Figure size 720x576 with 1 Axes>"
      ]
     },
     "metadata": {
      "needs_background": "light"
     },
     "output_type": "display_data"
    }
   ],
   "source": [
    "# handle the imbalance\n",
    "X_train_resampled, y_train_resampled = SMOTE().fit_resample(X_train_scaled, y_train)\n",
    "\n",
    "log_model_4 = LogisticRegression(C=1e7, class_weight={1:0.28}, random_state=3)\n",
    "\n",
    "log_model_4.fit(X_train_resampled, y_train_resampled)\n",
    "\n",
    "y_train_score = log_model_4.decision_function(X_train_resampled)\n",
    "y_test_score = log_model_4.decision_function(X_test_scaled)\n",
    "\n",
    "train_fpr, train_tpr, train_thresholds = roc_curve(y_train_resampled, y_train_score)\n",
    "test_fpr, test_tpr, test_thresholds = roc_curve(y_test, y_test_score)\n",
    "\n",
    "print('Train AUC: {}'.format(auc(train_fpr, train_tpr)))\n",
    "print('Test AUC: {}'.format(auc(test_fpr, test_tpr)))\n",
    "\n",
    "plt.figure(figsize=(10, 8))\n",
    "lw = 2\n",
    "\n",
    "plt.plot(train_fpr, train_tpr, color='blue',\n",
    "         lw=lw, label='Train ROC curve')\n",
    "plt.plot(test_fpr, test_tpr, color='darkorange',\n",
    "         lw=lw, label='Test ROC curve')\n",
    "\n",
    "plt.plot([0, 1], [0, 1], color='navy', lw=lw, linestyle='--')\n",
    "plt.xlim([0.0, 1.0])\n",
    "plt.ylim([0.0, 1.05])\n",
    "plt.yticks([i/20.0 for i in range(21)])\n",
    "plt.xticks([i/20.0 for i in range(21)])\n",
    "plt.xlabel('False Positive Rate')\n",
    "plt.ylabel('True Positive Rate')\n",
    "plt.title('Receiver operating characteristic (ROC) Curve')\n",
    "plt.legend(loc='lower right')\n",
    "plt.show()"
   ]
  },
  {
   "cell_type": "code",
   "execution_count": 40,
   "metadata": {},
   "outputs": [
    {
     "name": "stdout",
     "output_type": "stream",
     "text": [
      "Precision Score: 0.5333333333333333\n",
      "Recall Score: 0.3404255319148936\n",
      "Accuracy Score: 0.8650674662668666\n",
      "F1 Score: 0.41558441558441556\n"
     ]
    }
   ],
   "source": [
    "y_hat_test = log_model_4.predict(X_test_scaled)\n",
    "print_metrics(y_test, y_hat_test)"
   ]
  },
  {
   "cell_type": "markdown",
   "metadata": {},
   "source": [
    "Despite resampling and changing the models parameters, our scores seem to reduce, the recall has reduced drastically. <br>\n",
    "\n",
    "`log_model_2` still seems to be the best model in terms of generalizing well with unseen data. <br>\n",
    "We'll take that as our best model using Logistic Regression, and try building another model using a <br>\n",
    "difference algorith that gives more flexibility in terms of tuning hyperperimeters."
   ]
  },
  {
   "cell_type": "markdown",
   "metadata": {},
   "source": [
    "**K-NEAREST-NEIGHBORS**"
   ]
  },
  {
   "cell_type": "markdown",
   "metadata": {},
   "source": [
    "We'll be using a more flexible algorithm(KNN) to check if we could improve the performance of our model. <br>\n",
    "Then use `cross_val_score` with `scoring=\"neg_log_loss\"` to find the mean log loss for this model\n",
    "\n",
    "Let's first build a basic KNN model without parameters"
   ]
  },
  {
   "cell_type": "code",
   "execution_count": 41,
   "metadata": {},
   "outputs": [
    {
     "data": {
      "text/plain": [
       "0.9285563290019431"
      ]
     },
     "execution_count": 41,
     "metadata": {},
     "output_type": "execute_result"
    }
   ],
   "source": [
    "# instansiate our model\n",
    "model_5 = KNeighborsClassifier()\n",
    "\n",
    "# calculate the models perfomance on train dataset with imbalance managed\n",
    "model_5_log_loss = -cross_val_score(model_5, X_train_resampled, y_train_resampled, scoring='neg_log_loss').mean()\n",
    "\n",
    "model_5_log_loss"
   ]
  },
  {
   "cell_type": "code",
   "execution_count": 42,
   "metadata": {},
   "outputs": [
    {
     "name": "stdout",
     "output_type": "stream",
     "text": [
      "Precision Score: 0.34065934065934067\n",
      "Recall Score: 0.6595744680851063\n",
      "Accuracy Score: 0.7721139430284858\n",
      "F1 Score: 0.4492753623188405\n"
     ]
    }
   ],
   "source": [
    "model_5.fit(X_train_resampled, y_train_resampled)\n",
    "\n",
    "y_hat_test = model_5.predict(X_test_scaled)\n",
    "print_metrics(y_test, y_hat_test)"
   ]
  },
  {
   "cell_type": "markdown",
   "metadata": {},
   "source": [
    "The scores, in particular Recall and f1, improved, giving us some hope of getting a much better model with this algorithm. Let's add some hyperparameters, and check for improvement"
   ]
  },
  {
   "cell_type": "code",
   "execution_count": 43,
   "metadata": {},
   "outputs": [
    {
     "data": {
      "text/plain": [
       "0.37288612146317746"
      ]
     },
     "execution_count": 43,
     "metadata": {},
     "output_type": "execute_result"
    }
   ],
   "source": [
    "# instansiate our model\n",
    "model_6 = KNeighborsClassifier(n_neighbors=20)\n",
    "\n",
    "# calculate the models perfomance on train dataset with imbalance managed\n",
    "model_6_log_loss = -cross_val_score(model_6, X_train_resampled, y_train_resampled, scoring='neg_log_loss').mean()\n",
    "\n",
    "model_6_log_loss"
   ]
  },
  {
   "cell_type": "code",
   "execution_count": 44,
   "metadata": {},
   "outputs": [
    {
     "name": "stdout",
     "output_type": "stream",
     "text": [
      "Precision Score: 0.387434554973822\n",
      "Recall Score: 0.7872340425531915\n",
      "Accuracy Score: 0.7946026986506747\n",
      "F1 Score: 0.5192982456140351\n"
     ]
    }
   ],
   "source": [
    "model_6.fit(X_train_resampled, y_train_resampled)\n",
    "\n",
    "y_hat_test = model_6.predict(X_test_scaled)\n",
    "print_metrics(y_test, y_hat_test)"
   ]
  },
  {
   "cell_type": "markdown",
   "metadata": {},
   "source": [
    "specifying number of neighbours to  20 has reduced our log-loss by almost two thirds, has improved each and every score ,with f1 being at 52%, and both recall and accuracy almost balancing. Let's try and increase the number of neighbors, to try and get a better number of neighbors."
   ]
  },
  {
   "cell_type": "code",
   "execution_count": 45,
   "metadata": {},
   "outputs": [
    {
     "data": {
      "text/plain": [
       "0.4164339251991378"
      ]
     },
     "execution_count": 45,
     "metadata": {},
     "output_type": "execute_result"
    }
   ],
   "source": [
    "# instansiate our model\n",
    "model_7 = KNeighborsClassifier(n_neighbors=35)\n",
    "\n",
    "# calculate the models perfomance on train dataset with imbalance managed\n",
    "model_7_log_loss = -cross_val_score(model_7, X_train_resampled, y_train_resampled, scoring='neg_log_loss').mean()\n",
    "\n",
    "model_7_log_loss"
   ]
  },
  {
   "cell_type": "code",
   "execution_count": 46,
   "metadata": {},
   "outputs": [
    {
     "name": "stdout",
     "output_type": "stream",
     "text": [
      "Precision Score: 0.3696682464454976\n",
      "Recall Score: 0.8297872340425532\n",
      "Accuracy Score: 0.7766116941529235\n",
      "F1 Score: 0.5114754098360655\n"
     ]
    }
   ],
   "source": [
    "model_7.fit(X_train_resampled, y_train_resampled)\n",
    "\n",
    "y_hat_test = model_7.predict(X_test_scaled)\n",
    "print_metrics(y_test, y_hat_test)"
   ]
  },
  {
   "cell_type": "markdown",
   "metadata": {},
   "source": [
    "This has reduced our reduced our f1 score, which indicates to us that 35 is not our optimal number of neighbors. let't try some other number below 20, lets take 15."
   ]
  },
  {
   "cell_type": "code",
   "execution_count": 47,
   "metadata": {},
   "outputs": [
    {
     "data": {
      "text/plain": [
       "0.3977007644418161"
      ]
     },
     "execution_count": 47,
     "metadata": {},
     "output_type": "execute_result"
    }
   ],
   "source": [
    "# instansiate our model\n",
    "model_8 = KNeighborsClassifier(n_neighbors=15)\n",
    "\n",
    "# calculate the models perfomance on train dataset with imbalance managed\n",
    "model_8_log_loss = -cross_val_score(model_8, X_train_resampled, y_train_resampled, scoring='neg_log_loss').mean()\n",
    "\n",
    "model_8_log_loss"
   ]
  },
  {
   "cell_type": "code",
   "execution_count": 48,
   "metadata": {},
   "outputs": [
    {
     "name": "stdout",
     "output_type": "stream",
     "text": [
      "Precision Score: 0.35121951219512193\n",
      "Recall Score: 0.7659574468085106\n",
      "Accuracy Score: 0.767616191904048\n",
      "F1 Score: 0.4816053511705685\n"
     ]
    }
   ],
   "source": [
    "model_8.fit(X_train_resampled, y_train_resampled)\n",
    "\n",
    "y_hat_test = model_8.predict(X_test_scaled)\n",
    "print_metrics(y_test, y_hat_test)"
   ]
  },
  {
   "cell_type": "markdown",
   "metadata": {},
   "source": [
    "That doesn't do us any better, but indicates to us that our optimal number of neighbors lie between 15 and 20.\n",
    "\n",
    "For now, we pick the best number of neighbors as 20, and since it had our best f1-score of all our model, we'll consider it as our best and final model."
   ]
  },
  {
   "cell_type": "markdown",
   "metadata": {},
   "source": [
    "## 5. Evaluation"
   ]
  },
  {
   "cell_type": "markdown",
   "metadata": {},
   "source": [
    "**Final model**\n",
    "\n",
    "Let's once again create our final model"
   ]
  },
  {
   "cell_type": "code",
   "execution_count": 50,
   "metadata": {},
   "outputs": [
    {
     "name": "stdout",
     "output_type": "stream",
     "text": [
      "Precision Score: 0.387434554973822\n",
      "Recall Score: 0.7872340425531915\n",
      "Accuracy Score: 0.7946026986506747\n",
      "F1 Score: 0.5192982456140351\n"
     ]
    }
   ],
   "source": [
    "# instansiate our model\n",
    "final_model = KNeighborsClassifier(n_neighbors=20)\n",
    "\n",
    "final_model.fit(X_train_resampled, y_train_resampled)\n",
    "\n",
    "y_hat_test = final_model.predict(X_test_scaled)\n",
    "print_metrics(y_test, y_hat_test)"
   ]
  },
  {
   "cell_type": "code",
   "execution_count": 52,
   "metadata": {},
   "outputs": [
    {
     "data": {
      "image/png": "[encoded data removed]",
      "text/plain": [
       "<Figure size 432x288 with 2 Axes>"
      ]
     },
     "metadata": {
      "needs_background": "light"
     },
     "output_type": "display_data"
    }
   ],
   "source": [
    "# confusion report\n",
    "# Plot confusion matrix of the test set\n",
    "plot_confusion_matrix(final_model, X_test_scaled, y_test,\n",
    "                      display_labels=[\"no churn\", \"churn\"],\n",
    "                      values_format=\".5g\")\n",
    "plt.grid(False) # removes the annoying grid lines from plot\n",
    "plt.show()"
   ]
  },
  {
   "cell_type": "markdown",
   "metadata": {},
   "source": [
    "Precision measures how precise our model is, at 38.7%, this indicates to us that of the positive values predicted, roughly 39% were actually true. \n",
    "Recall measures the portion of actual values that we're predicted,cthis indicates that on unseen data, our model is able to correctly account for about 79% of our desired prediction, that is churning. The accuracy of the the model, that is, the predictions the model got correctly are 79%, and finaly, our final score the f1-score, which ensure a balance between the precision and recall is at 52%, this can be concluded to have been a result of the very low precision score.\n",
    "\n",
    "In terms of solving for our stakeholder questio of churning, our model is able to detect churning with an accuracy of 79%."
   ]
  },
  {
   "cell_type": "markdown",
   "metadata": {},
   "source": [
    "## 6. Findings and Recommendations\n",
    "\n",
    "Understanding the customers' behaviours, makes it possible for different departments to know where to focus their attention. Decisions like where to deploy the most effective and aggressive sales team, where to focus a new advertisement, or even what kinds of products to develop or drop, can be reached at with confidence that there was need for that particular decision or investment, and that the earlier identified behaviors can be thwarted if negative, and promoted if desireable.\n",
    "\n",
    "With this in mind, below is a summary of the findings to questions asked earlier;\n",
    "\n",
    "| Question of interest       | Finding        |\n",
    "| ------------- |-------------|\n",
    "| What is the distribution of Expenditure by Time of the day?     | From our distribution, we can see that `day generates for us the highest revenue at more than 100,000`<br> and international calls generate the least revenue at less than 10,000. |\n",
    "| What is the distribution of Revenue by State?     | From our top ten highest revenue states, `West Virginia leads with over 6000`, with the rest<br> generating revenue between 5000 and 4000     |\n",
    "| What is the distribution of revenue by Area Codes? | Our data shows us that `Area code 415 is our highest grosser with revenue around 100,000`<br> followed by area code 408 the 510.      |\n",
    "| What is the relationship between account length and Expenditure? | `It is not true that accounts that have been active for longer will`<br> `spend more` on average than accounts that have been around for much short period.      |\n",
    "| What is the relationship between having a plan and expenditure? | `Accounts with international plans tend to spend more` on average than those without international plan.     |\n",
    "\n",
    "<br>\n",
    "<br>\n",
    "<br>\n",
    "Some of the recommendations that we might give to the different departments include;\n",
    "\n",
    "**Develop plans for day, evening and night call.**\n",
    "\n",
    "From our analysis of people making international call while on a plan and those making international calls without an international plan, we found out that those with a plan tend to spend 4% on average. With this in mind, the products development team should comeup with new product plans for each of the periods of the day, in particular the once with high revenue like *day time*, this has a potential to increase those revenues by upto 4%.\n",
    "\n",
    "\n",
    "**Develop the plans for all customers, with little considerations for account length**\n",
    "\n",
    "Our analysis also indicated that expenditure is not dependent on account length, that is, amount spent by an account has little to no ties with how long the account has been active, and so, when creating the different plans, little or no considerations should be given to account length, as it is likely to have little effect in the amount spent by an account."
   ]
  },
  {
   "cell_type": "markdown",
   "metadata": {},
   "source": [
    "## 7. Next Steps\n",
    "\n",
    "As a conclusion, some of the area of interest/questions that arose from these analysis that might be worth exploring further include;\n",
    "* What makes a state perform better than its counterparts?\n",
    "* What are some of the indicators of high expenditure by an account?"
   ]
  }
 ],
 "metadata": {
  "kernelspec": {
   "display_name": "Python 3.8.5 ('learn-env')",
   "language": "python",
   "name": "python3"
  },
  "language_info": {
   "codemirror_mode": {
    "name": "ipython",
    "version": 3
   },
   "file_extension": ".py",
   "mimetype": "text/x-python",
   "name": "python",
   "nbconvert_exporter": "python",
   "pygments_lexer": "ipython3",
   "version": "3.8.5"
  },
  "orig_nbformat": 4,
  "vscode": {
   "interpreter": {
    "hash": "2f6755944dd586306f6b4f95278b517ddf3bf95bd70c3d0c3190eb84811895db"
   }
  }
 },
 "nbformat": 4,
 "nbformat_minor": 2
}
