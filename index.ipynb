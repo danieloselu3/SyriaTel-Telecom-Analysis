{
 "cells": [
  {
   "cell_type": "markdown",
   "metadata": {},
   "source": [
    "# INTRODUCTION"
   ]
  },
  {
   "cell_type": "markdown",
   "metadata": {},
   "source": [
    "## 1. Business Understanding\n",
    "\n",
    "Questions to consider answering\n",
    "* Who are the stakeholders in this project? Who will be directly affected by the creation of this project?\n",
    "* What business problem(s) will this Data Science project solve for the organization?\n",
    "* What problems are inside the scope of this project?\n",
    "* What problems are outside the scope of this project?\n",
    "* What data sources are available to us?\n",
    "* What is the expected timeline for this project? Are there hard deadlines (e.g. \"must be live before holiday season shopping\") or is this an ongoing project?\n",
    "*  Do stakeholders from different parts of the company or organization all have the exact same understanding about what this project is and isn't?\n",
    "\n",
    "\n",
    "* Determine business objectives: You should first “thoroughly understand, from a business perspective, what the customer really wants to accomplish.” (CRISP-DM Guide) and then define business success criteria.\n",
    "* Assess situation: Determine resources availability, project requirements, assess risks and contingencies, and conduct a cost-benefit analysis.\n",
    "* Determine data mining goals: In addition to defining the business objectives, you should also define what success looks like from a technical data mining perspective.\n",
    "* Produce project plan: Select technologies and tools and define detailed plans for each project phase."
   ]
  },
  {
   "cell_type": "markdown",
   "metadata": {},
   "source": [
    "## 2. Data Understanding\n",
    "Questions to consider in this section\n",
    "\n",
    "* What data is available to us? Where does it live? Do we have the data, or can we scrape/buy/source the data from somewhere else?\n",
    "* Who controls the data sources, and what steps are needed to get access to the data?\n",
    "* What is our target?\n",
    "* What predictors are available to us?\n",
    "* What data types are the predictors we'll be working with?\n",
    "* What is the distribution of our data?\n",
    "* How many observations does our dataset contain? Do we have a lot of data? Only a little?\n",
    "* Do we have enough data to build a model? Will we need to use resampling methods?\n",
    "* How do we know the data is correct? How is the data collected? Is there a chance the data could be wrong?\n",
    "\n",
    "\n",
    "* Collect initial data: Acquire the necessary data and (if necessary) load it into your analysis tool.\n",
    "* Describe data: Examine the data and document its surface properties like data format, number of records, or field identities.\n",
    "* Explore data: Dig deeper into the data. Query it, visualize it, and identify relationships among the data.\n",
    "* Verify data quality: How clean/dirty is the data? Document any quality issues."
   ]
  },
  {
   "cell_type": "markdown",
   "metadata": {},
   "source": [
    "## 3. Data Preparation\n",
    "\n",
    "* Select data: Determine which data sets will be used and document reasons for inclusion/exclusion.\n",
    "* Clean data: Often this is the lengthiest task. Without it, you’ll likely fall victim to garbage-in, garbage-out. A common practice during this task is to correct, impute, or remove erroneous values.\n",
    "* Construct data: Derive new attributes that will be helpful. For example, derive someone’s body mass index from height and weight fields.\n",
    "* Integrate data: Create new data sets by combining data from multiple sources.\n",
    "* Format data: Re-format data as necessary. For example, you might convert string values that store numbers to numeric values so that you can perform mathematical operations."
   ]
  },
  {
   "cell_type": "markdown",
   "metadata": {},
   "source": [
    "### 3.1 Module imports and Data Loading "
   ]
  },
  {
   "cell_type": "markdown",
   "metadata": {},
   "source": [
    "### 3.2 Descriptive Statistics\n",
    "* Mode\n",
    "* Mean\n",
    "etc ..."
   ]
  },
  {
   "cell_type": "markdown",
   "metadata": {},
   "source": [
    "### 3.3 Data Cleaning\n",
    "* Validity\n",
    "* Accuracy\n",
    "* Completeness\n",
    "* Consistency\n",
    "* Uniformity"
   ]
  },
  {
   "cell_type": "markdown",
   "metadata": {},
   "source": [
    "### 3.4 Exploratory Data Analysis (EDA)\n",
    "\n",
    "* Univariate Analysis\n",
    "* Multivariate Analysis\n",
    "* Answer a few questions "
   ]
  },
  {
   "cell_type": "markdown",
   "metadata": {},
   "source": [
    "## 4. Modelling"
   ]
  },
  {
   "cell_type": "markdown",
   "metadata": {},
   "source": [
    "### 4.1 Preprocessing\n",
    "* Data Transformation\n",
    "* Data Scalling"
   ]
  },
  {
   "cell_type": "markdown",
   "metadata": {},
   "source": [
    "### 4.2 Base Model\n",
    "* Build your model\n",
    "* Validate\n",
    "* Evaluate the Model\n",
    "* What can be improved, where can we aplly some tuning?"
   ]
  },
  {
   "cell_type": "markdown",
   "metadata": {},
   "source": [
    "### 4.3 Model 2 : with some tuning\n",
    "* Build your model\n",
    "* Validate\n",
    "* Evaluate the Model\n",
    "* What can be improved, where can we aplly some tuning?"
   ]
  },
  {
   "cell_type": "markdown",
   "metadata": {},
   "source": [
    "### 4.4 Model 3 : More tuning\n",
    "* Build your model\n",
    "* Validate\n",
    "* Evaluate the Model\n",
    "* What can be improved, where can we aplly some tuning?"
   ]
  },
  {
   "cell_type": "markdown",
   "metadata": {},
   "source": [
    "### 4.5 Final Model : Even more tuning\n",
    "* Build your model\n",
    "* Validate\n",
    "* Evaluate the Model\n",
    "* What can be improved, where can we aplly some tuning?"
   ]
  },
  {
   "cell_type": "markdown",
   "metadata": {},
   "source": [
    "## 5. Evaluation"
   ]
  },
  {
   "cell_type": "markdown",
   "metadata": {},
   "source": [
    "## 6. Recommendations"
   ]
  },
  {
   "cell_type": "markdown",
   "metadata": {},
   "source": [
    "## 7. Next Steps"
   ]
  },
  {
   "cell_type": "markdown",
   "metadata": {},
   "source": []
  },
  {
   "cell_type": "markdown",
   "metadata": {},
   "source": []
  },
  {
   "cell_type": "markdown",
   "metadata": {},
   "source": []
  }
 ],
 "metadata": {
  "language_info": {
   "name": "python"
  },
  "orig_nbformat": 4
 },
 "nbformat": 4,
 "nbformat_minor": 2
}
